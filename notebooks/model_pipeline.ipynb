{
  "nbformat": 4,
  "nbformat_minor": 0,
  "metadata": {
    "colab": {
      "name": "Benchmarking1.ipynb",
      "provenance": [],
      "collapsed_sections": []
    },
    "kernelspec": {
      "name": "python3",
      "display_name": "Python 3"
    }
  },
  "cells": [
    {
      "cell_type": "code",
      "metadata": {
        "colab": {
          "base_uri": "https://localhost:8080/"
        },
        "id": "cykRoNHQs240",
        "outputId": "57c85775-0e1b-410f-c204-48d79a3b4cf3"
      },
      "source": [
        "!pip install surprise"
      ],
      "execution_count": null,
      "outputs": [
        {
          "output_type": "stream",
          "text": [
            "Collecting surprise\n",
            "  Downloading https://files.pythonhosted.org/packages/61/de/e5cba8682201fcf9c3719a6fdda95693468ed061945493dea2dd37c5618b/surprise-0.1-py2.py3-none-any.whl\n",
            "Collecting scikit-surprise\n",
            "\u001b[?25l  Downloading https://files.pythonhosted.org/packages/97/37/5d334adaf5ddd65da99fc65f6507e0e4599d092ba048f4302fe8775619e8/scikit-surprise-1.1.1.tar.gz (11.8MB)\n",
            "\u001b[K     |████████████████████████████████| 11.8MB 335kB/s \n",
            "\u001b[?25hRequirement already satisfied: joblib>=0.11 in /usr/local/lib/python3.6/dist-packages (from scikit-surprise->surprise) (1.0.0)\n",
            "Requirement already satisfied: numpy>=1.11.2 in /usr/local/lib/python3.6/dist-packages (from scikit-surprise->surprise) (1.19.5)\n",
            "Requirement already satisfied: scipy>=1.0.0 in /usr/local/lib/python3.6/dist-packages (from scikit-surprise->surprise) (1.4.1)\n",
            "Requirement already satisfied: six>=1.10.0 in /usr/local/lib/python3.6/dist-packages (from scikit-surprise->surprise) (1.15.0)\n",
            "Building wheels for collected packages: scikit-surprise\n",
            "  Building wheel for scikit-surprise (setup.py) ... \u001b[?25l\u001b[?25hdone\n",
            "  Created wheel for scikit-surprise: filename=scikit_surprise-1.1.1-cp36-cp36m-linux_x86_64.whl size=1618286 sha256=4f646130c891ee2ca0ad9b1b78b4de513f786a57eb77ca6cb52359ba0d7ac69e\n",
            "  Stored in directory: /root/.cache/pip/wheels/78/9c/3d/41b419c9d2aff5b6e2b4c0fc8d25c538202834058f9ed110d0\n",
            "Successfully built scikit-surprise\n",
            "Installing collected packages: scikit-surprise, surprise\n",
            "Successfully installed scikit-surprise-1.1.1 surprise-0.1\n"
          ],
          "name": "stdout"
        }
      ]
    },
    {
      "cell_type": "markdown",
      "metadata": {
        "id": "Y50U6iDMbnZA"
      },
      "source": [
        "Let us import the pipeline module to implement the pipeline functions that we have built. We will use the default dataset (ml-100k) to train, test and evaluate the model."
      ]
    },
    {
      "cell_type": "code",
      "metadata": {
        "id": "XP6QoooBteax"
      },
      "source": [
        "from pipeline import *\r\n",
        "import time\r\n",
        "data = get_data(load_from_surprise=True)"
      ],
      "execution_count": 37,
      "outputs": []
    },
    {
      "cell_type": "markdown",
      "metadata": {
        "id": "NRYbfWQEcbnt"
      },
      "source": [
        "Use the train_test_split function to split the data."
      ]
    },
    {
      "cell_type": "code",
      "metadata": {
        "id": "8mqKrVeXEOKE"
      },
      "source": [
        "\"\"\"Now we will use the train_test_split function to slit the dataset into 75% training and 25% test data set.\"\"\"\r\n",
        "from surprise.model_selection import train_test_split\r\n",
        "trainset, testset = train_test_split(data, test_size=.25)"
      ],
      "execution_count": 26,
      "outputs": []
    },
    {
      "cell_type": "markdown",
      "metadata": {
        "id": "Xemo5VI9dQo8"
      },
      "source": [
        "Let us compute the RMSE,MAE and the Fit_time of several models using the benchmarking_pipeline function from the pipeline module."
      ]
    },
    {
      "cell_type": "code",
      "metadata": {
        "colab": {
          "base_uri": "https://localhost:8080/"
        },
        "id": "XqtAeaenwmJ9",
        "outputId": "0c4ecc27-9e52-4f3d-9d28-02ac676b5452"
      },
      "source": [
        "models = ['Knn_uc','knn_ic','knn_up','knn_ip','Baseline','SVD','SVDpp','NMF']\r\n",
        "rmse_b=[]\r\n",
        "mae_b=[]\r\n",
        "fit_time_b=[]\r\n",
        "for model in models:\r\n",
        "  rmse,mae,fit_time = benchmarking_pipeline(model,trainset,testset)\r\n",
        "  rmse_b.append(rmse)\r\n",
        "  mae_b.append(mae)\r\n",
        "  fit_time_b.append(fit_time)"
      ],
      "execution_count": 40,
      "outputs": [
        {
          "output_type": "stream",
          "text": [
            "Computing the cosine similarity matrix...\n",
            "Done computing similarity matrix.\n",
            "RMSE: 1.0217\n",
            "MAE:  0.8093\n",
            "Computing the cosine similarity matrix...\n",
            "Done computing similarity matrix.\n",
            "RMSE: 1.0549\n",
            "MAE:  0.8375\n",
            "Computing the pearson similarity matrix...\n",
            "Done computing similarity matrix.\n",
            "RMSE: 1.0162\n",
            "MAE:  0.8075\n",
            "Computing the pearson similarity matrix...\n",
            "Done computing similarity matrix.\n",
            "RMSE: 1.0680\n",
            "MAE:  0.8577\n",
            "Do you want to continue with the default parameters? Y/Ny\n",
            "Estimating biases using als...\n",
            "RMSE: 0.9419\n",
            "MAE:  0.7472\n",
            "Do you want to continue with the default parameters? Y/Ny\n",
            "RMSE: 0.9375\n",
            "MAE:  0.7391\n",
            "Do you want to continue with the default parameters? Y/Ny\n",
            "RMSE: 0.9243\n",
            "MAE:  0.7273\n",
            "Do you want to continue with the default parameters? Y/Ny\n",
            "RMSE: 0.9669\n",
            "MAE:  0.7573\n"
          ],
          "name": "stdout"
        }
      ]
    },
    {
      "cell_type": "markdown",
      "metadata": {
        "id": "quAkfY5Nd2Mv"
      },
      "source": [
        "# Benchmarking : RMSE"
      ]
    },
    {
      "cell_type": "markdown",
      "metadata": {
        "id": "d4V9-btBd_lg"
      },
      "source": [
        "We will be performing the Benchmarking operation on the RMSE of each algorithm"
      ]
    },
    {
      "cell_type": "code",
      "metadata": {
        "colab": {
          "base_uri": "https://localhost:8080/",
          "height": 351
        },
        "id": "7YZJVVg1aYXd",
        "outputId": "57baf7cb-44fe-4552-8558-2887ad8a87f4"
      },
      "source": [
        "import matplotlib.pyplot as plt\r\n",
        "fig = plt.figure()\r\n",
        "ax = fig.add_axes([0,0,1,1])\r\n",
        "ax.bar(models,rmse_b)\r\n",
        "plt.xlabel('RMSE')\r\n",
        "plt.ylabel('Score')\r\n",
        "plt.show()"
      ],
      "execution_count": 43,
      "outputs": [
        {
          "output_type": "display_data",
          "data": {
            "image/png": "[encoded data removed]",
            "text/plain": [
              "<Figure size 432x288 with 1 Axes>"
            ]
          },
          "metadata": {
            "tags": [],
            "needs_background": "light"
          }
        }
      ]
    },
    {
      "cell_type": "markdown",
      "metadata": {
        "id": "tyapWAnheDKt"
      },
      "source": [
        "# Benchmarking : MAE"
      ]
    },
    {
      "cell_type": "markdown",
      "metadata": {
        "id": "oAbek2ZDeHqg"
      },
      "source": [
        "We will be performing the Benchmarking operation on the MAE of each algorithm."
      ]
    },
    {
      "cell_type": "code",
      "metadata": {
        "colab": {
          "base_uri": "https://localhost:8080/",
          "height": 351
        },
        "id": "roHLUMa8aZ2S",
        "outputId": "93a6ee5e-2986-4796-8b50-f2a21bb59959"
      },
      "source": [
        "fig = plt.figure()\r\n",
        "ax = fig.add_axes([0,0,1,1])\r\n",
        "ax.bar(models,mae_b)\r\n",
        "plt.xlabel('MAE')\r\n",
        "plt.ylabel('Score')\r\n",
        "plt.show()"
      ],
      "execution_count": 44,
      "outputs": [
        {
          "output_type": "display_data",
          "data": {
            "image/png": "[encoded data removed]",
            "text/plain": [
              "<Figure size 432x288 with 1 Axes>"
            ]
          },
          "metadata": {
            "tags": [],
            "needs_background": "light"
          }
        }
      ]
    },
    {
      "cell_type": "markdown",
      "metadata": {
        "id": "_YzyXT2ieLIF"
      },
      "source": [
        "# Benchmarking : Fit_time "
      ]
    },
    {
      "cell_type": "markdown",
      "metadata": {
        "id": "IYkIunnbeVHP"
      },
      "source": [
        "We will be performing the Benchmarking operation on the Fit_time of each algorithm."
      ]
    },
    {
      "cell_type": "code",
      "metadata": {
        "colab": {
          "base_uri": "https://localhost:8080/",
          "height": 352
        },
        "id": "dBIkBEpwbOvk",
        "outputId": "ec2b3b44-4e2c-4ae6-c70e-ebc153e0c651"
      },
      "source": [
        "fig = plt.figure()\r\n",
        "ax = fig.add_axes([0,0,1,1])\r\n",
        "ax.bar(models,fit_time_b)\r\n",
        "plt.xlabel('Fit_time')\r\n",
        "plt.ylabel('time(s)')\r\n",
        "plt.show()"
      ],
      "execution_count": 46,
      "outputs": [
        {
          "output_type": "display_data",
          "data": {
            "image/png": "[encoded data removed]",
            "text/plain": [
              "<Figure size 432x288 with 1 Axes>"
            ]
          },
          "metadata": {
            "tags": [],
            "needs_background": "light"
          }
        }
      ]
    }
  ]
}