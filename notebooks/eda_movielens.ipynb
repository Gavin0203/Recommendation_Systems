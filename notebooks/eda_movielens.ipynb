{
 "cells": [
  {
   "cell_type": "markdown",
   "metadata": {},
   "source": [
    "## EDA on MovieLens Dataset"
   ]
  },
  {
   "cell_type": "markdown",
   "metadata": {},
   "source": [
    "### Nikhil Gavin Crasta\n",
    "#### AIS-2020"
   ]
  },
  {
   "cell_type": "markdown",
   "metadata": {},
   "source": [
    "In this notebook we will perform EDA on the movielens dataset. "
   ]
  },
  {
   "cell_type": "markdown",
   "metadata": {},
   "source": [
    "We will perform the following operations:\n",
    "- Identify missing values and handle them.\n",
    "- Identify the duplicates and handle them."
   ]
  },
  {
   "cell_type": "code",
   "execution_count": 96,
   "metadata": {},
   "outputs": [],
   "source": [
    "from pathlib import Path\n",
    "import pandas as pd"
   ]
  },
  {
   "cell_type": "code",
   "execution_count": 97,
   "metadata": {},
   "outputs": [],
   "source": [
    "DATA_DIR = Path('../movielens/ml-latest')"
   ]
  },
  {
   "cell_type": "code",
   "execution_count": 98,
   "metadata": {},
   "outputs": [],
   "source": [
    "RATINGS_FILEPATH = DATA_DIR / 'ratings.csv'\n",
    "MOVIES_FILEPATH = DATA_DIR / 'movies.csv'"
   ]
  },
  {
   "cell_type": "markdown",
   "metadata": {},
   "source": [
    "## Ratings"
   ]
  },
  {
   "cell_type": "code",
   "execution_count": 99,
   "metadata": {},
   "outputs": [
    {
     "data": {
      "text/html": [
       "<div>\n",
       "<style scoped>\n",
       "    .dataframe tbody tr th:only-of-type {\n",
       "        vertical-align: middle;\n",
       "    }\n",
       "\n",
       "    .dataframe tbody tr th {\n",
       "        vertical-align: top;\n",
       "    }\n",
       "\n",
       "    .dataframe thead th {\n",
       "        text-align: right;\n",
       "    }\n",
       "</style>\n",
       "<table border=\"1\" class=\"dataframe\">\n",
       "  <thead>\n",
       "    <tr style=\"text-align: right;\">\n",
       "      <th></th>\n",
       "      <th>userId</th>\n",
       "      <th>movieId</th>\n",
       "      <th>rating</th>\n",
       "      <th>timestamp</th>\n",
       "    </tr>\n",
       "  </thead>\n",
       "  <tbody>\n",
       "    <tr>\n",
       "      <th>21425467</th>\n",
       "      <td>218875</td>\n",
       "      <td>1500</td>\n",
       "      <td>4.5</td>\n",
       "      <td>1111752822</td>\n",
       "    </tr>\n",
       "    <tr>\n",
       "      <th>16363853</th>\n",
       "      <td>167362</td>\n",
       "      <td>34162</td>\n",
       "      <td>4.0</td>\n",
       "      <td>1157658075</td>\n",
       "    </tr>\n",
       "    <tr>\n",
       "      <th>13064425</th>\n",
       "      <td>133573</td>\n",
       "      <td>364</td>\n",
       "      <td>4.0</td>\n",
       "      <td>846346196</td>\n",
       "    </tr>\n",
       "    <tr>\n",
       "      <th>21850095</th>\n",
       "      <td>223206</td>\n",
       "      <td>1748</td>\n",
       "      <td>4.0</td>\n",
       "      <td>1001714829</td>\n",
       "    </tr>\n",
       "    <tr>\n",
       "      <th>481417</th>\n",
       "      <td>4871</td>\n",
       "      <td>112852</td>\n",
       "      <td>4.0</td>\n",
       "      <td>1420398128</td>\n",
       "    </tr>\n",
       "  </tbody>\n",
       "</table>\n",
       "</div>"
      ],
      "text/plain": [
       "          userId  movieId  rating   timestamp\n",
       "21425467  218875     1500     4.5  1111752822\n",
       "16363853  167362    34162     4.0  1157658075\n",
       "13064425  133573      364     4.0   846346196\n",
       "21850095  223206     1748     4.0  1001714829\n",
       "481417      4871   112852     4.0  1420398128"
      ]
     },
     "execution_count": 99,
     "metadata": {},
     "output_type": "execute_result"
    }
   ],
   "source": [
    "ratings_raw = pd.read_csv(RATINGS_FILEPATH)\n",
    "ratings_raw.sample(5)"
   ]
  },
  {
   "cell_type": "markdown",
   "metadata": {},
   "source": [
    "We will create a variable 'ratings' to store the original values and perform operations on them.\n",
    "\n",
    "We shall also use the info() function to get the information about the datatypes we'll be dealing with in the dataframe. This will make it easy for us to perform opertaion on the data accordingly."
   ]
  },
  {
   "cell_type": "code",
   "execution_count": 100,
   "metadata": {},
   "outputs": [
    {
     "name": "stdout",
     "output_type": "stream",
     "text": [
      "<class 'pandas.core.frame.DataFrame'>\n",
      "RangeIndex: 27753444 entries, 0 to 27753443\n",
      "Data columns (total 4 columns):\n",
      " #   Column     Dtype  \n",
      "---  ------     -----  \n",
      " 0   userId     int64  \n",
      " 1   movieId    int64  \n",
      " 2   rating     float64\n",
      " 3   timestamp  int64  \n",
      "dtypes: float64(1), int64(3)\n",
      "memory usage: 847.0 MB\n"
     ]
    }
   ],
   "source": [
    "ratings = ratings_raw.copy()\n",
    "ratings.info()"
   ]
  },
  {
   "cell_type": "markdown",
   "metadata": {},
   "source": [
    "Now, by using the describe() function we'll get the basic statstical values of different columns in the dataset"
   ]
  },
  {
   "cell_type": "code",
   "execution_count": 101,
   "metadata": {},
   "outputs": [
    {
     "data": {
      "text/html": [
       "<div>\n",
       "<style scoped>\n",
       "    .dataframe tbody tr th:only-of-type {\n",
       "        vertical-align: middle;\n",
       "    }\n",
       "\n",
       "    .dataframe tbody tr th {\n",
       "        vertical-align: top;\n",
       "    }\n",
       "\n",
       "    .dataframe thead th {\n",
       "        text-align: right;\n",
       "    }\n",
       "</style>\n",
       "<table border=\"1\" class=\"dataframe\">\n",
       "  <thead>\n",
       "    <tr style=\"text-align: right;\">\n",
       "      <th></th>\n",
       "      <th>userId</th>\n",
       "      <th>movieId</th>\n",
       "      <th>rating</th>\n",
       "      <th>timestamp</th>\n",
       "    </tr>\n",
       "  </thead>\n",
       "  <tbody>\n",
       "    <tr>\n",
       "      <th>count</th>\n",
       "      <td>2.775344e+07</td>\n",
       "      <td>2.775344e+07</td>\n",
       "      <td>2.775344e+07</td>\n",
       "      <td>2.775344e+07</td>\n",
       "    </tr>\n",
       "    <tr>\n",
       "      <th>mean</th>\n",
       "      <td>1.419420e+05</td>\n",
       "      <td>1.848800e+04</td>\n",
       "      <td>3.530445e+00</td>\n",
       "      <td>1.193122e+09</td>\n",
       "    </tr>\n",
       "    <tr>\n",
       "      <th>std</th>\n",
       "      <td>8.170740e+04</td>\n",
       "      <td>3.510263e+04</td>\n",
       "      <td>1.066353e+00</td>\n",
       "      <td>2.160482e+08</td>\n",
       "    </tr>\n",
       "    <tr>\n",
       "      <th>min</th>\n",
       "      <td>1.000000e+00</td>\n",
       "      <td>1.000000e+00</td>\n",
       "      <td>5.000000e-01</td>\n",
       "      <td>7.896520e+08</td>\n",
       "    </tr>\n",
       "    <tr>\n",
       "      <th>25%</th>\n",
       "      <td>7.117600e+04</td>\n",
       "      <td>1.097000e+03</td>\n",
       "      <td>3.000000e+00</td>\n",
       "      <td>9.986053e+08</td>\n",
       "    </tr>\n",
       "    <tr>\n",
       "      <th>50%</th>\n",
       "      <td>1.420220e+05</td>\n",
       "      <td>2.716000e+03</td>\n",
       "      <td>3.500000e+00</td>\n",
       "      <td>1.174256e+09</td>\n",
       "    </tr>\n",
       "    <tr>\n",
       "      <th>75%</th>\n",
       "      <td>2.124590e+05</td>\n",
       "      <td>7.150000e+03</td>\n",
       "      <td>4.000000e+00</td>\n",
       "      <td>1.422744e+09</td>\n",
       "    </tr>\n",
       "    <tr>\n",
       "      <th>max</th>\n",
       "      <td>2.832280e+05</td>\n",
       "      <td>1.938860e+05</td>\n",
       "      <td>5.000000e+00</td>\n",
       "      <td>1.537945e+09</td>\n",
       "    </tr>\n",
       "  </tbody>\n",
       "</table>\n",
       "</div>"
      ],
      "text/plain": [
       "             userId       movieId        rating     timestamp\n",
       "count  2.775344e+07  2.775344e+07  2.775344e+07  2.775344e+07\n",
       "mean   1.419420e+05  1.848800e+04  3.530445e+00  1.193122e+09\n",
       "std    8.170740e+04  3.510263e+04  1.066353e+00  2.160482e+08\n",
       "min    1.000000e+00  1.000000e+00  5.000000e-01  7.896520e+08\n",
       "25%    7.117600e+04  1.097000e+03  3.000000e+00  9.986053e+08\n",
       "50%    1.420220e+05  2.716000e+03  3.500000e+00  1.174256e+09\n",
       "75%    2.124590e+05  7.150000e+03  4.000000e+00  1.422744e+09\n",
       "max    2.832280e+05  1.938860e+05  5.000000e+00  1.537945e+09"
      ]
     },
     "execution_count": 101,
     "metadata": {},
     "output_type": "execute_result"
    }
   ],
   "source": [
    "ratings.describe()"
   ]
  },
  {
   "cell_type": "markdown",
   "metadata": {},
   "source": [
    "Let us now see if the dataset contains any null/nan values. If any null/nan values are found we must take care of it by removing the entire row or by replacing it with a suitable value.\n"
   ]
  },
  {
   "cell_type": "code",
   "execution_count": 102,
   "metadata": {},
   "outputs": [
    {
     "data": {
      "text/plain": [
       "userId       0\n",
       "movieId      0\n",
       "rating       0\n",
       "timestamp    0\n",
       "dtype: int64"
      ]
     },
     "execution_count": 102,
     "metadata": {},
     "output_type": "execute_result"
    }
   ],
   "source": [
    "ratings.isnull().sum()"
   ]
  },
  {
   "cell_type": "markdown",
   "metadata": {},
   "source": [
    "Now check for any duplicate values in the ratings dataset using the duplicated() function, and count the total number of duplicate values using the sum() function. \n",
    "\n",
    "Identifying duplicates is an important part of EDA as having too much of similar data will not help the model and computation cost also increases."
   ]
  },
  {
   "cell_type": "code",
   "execution_count": 103,
   "metadata": {},
   "outputs": [
    {
     "data": {
      "text/plain": [
       "0"
      ]
     },
     "execution_count": 103,
     "metadata": {},
     "output_type": "execute_result"
    }
   ],
   "source": [
    "ratings.duplicated(keep=False).sum()"
   ]
  },
  {
   "cell_type": "markdown",
   "metadata": {},
   "source": [
    "Let us now see the number of unique movieId's present in the dataset. The shape function returns the (row,column) value. By this we can determine the number of unique id's present by seeing the no of rows"
   ]
  },
  {
   "cell_type": "code",
   "execution_count": 104,
   "metadata": {},
   "outputs": [
    {
     "data": {
      "text/plain": [
       "(53889,)"
      ]
     },
     "execution_count": 104,
     "metadata": {},
     "output_type": "execute_result"
    }
   ],
   "source": [
    "ratings['movieId'].unique().shape"
   ]
  },
  {
   "cell_type": "markdown",
   "metadata": {},
   "source": [
    "Let us check the different values we can get for the movieId: 1091"
   ]
  },
  {
   "cell_type": "code",
   "execution_count": 105,
   "metadata": {},
   "outputs": [
    {
     "data": {
      "text/html": [
       "<div>\n",
       "<style scoped>\n",
       "    .dataframe tbody tr th:only-of-type {\n",
       "        vertical-align: middle;\n",
       "    }\n",
       "\n",
       "    .dataframe tbody tr th {\n",
       "        vertical-align: top;\n",
       "    }\n",
       "\n",
       "    .dataframe thead th {\n",
       "        text-align: right;\n",
       "    }\n",
       "</style>\n",
       "<table border=\"1\" class=\"dataframe\">\n",
       "  <thead>\n",
       "    <tr style=\"text-align: right;\">\n",
       "      <th></th>\n",
       "      <th>userId</th>\n",
       "      <th>movieId</th>\n",
       "      <th>rating</th>\n",
       "      <th>timestamp</th>\n",
       "    </tr>\n",
       "  </thead>\n",
       "  <tbody>\n",
       "    <tr>\n",
       "      <th>2</th>\n",
       "      <td>1</td>\n",
       "      <td>1091</td>\n",
       "      <td>1.5</td>\n",
       "      <td>1256677471</td>\n",
       "    </tr>\n",
       "    <tr>\n",
       "      <th>210</th>\n",
       "      <td>4</td>\n",
       "      <td>1091</td>\n",
       "      <td>1.0</td>\n",
       "      <td>1127946740</td>\n",
       "    </tr>\n",
       "    <tr>\n",
       "      <th>12101</th>\n",
       "      <td>133</td>\n",
       "      <td>1091</td>\n",
       "      <td>1.0</td>\n",
       "      <td>1196541969</td>\n",
       "    </tr>\n",
       "    <tr>\n",
       "      <th>12240</th>\n",
       "      <td>134</td>\n",
       "      <td>1091</td>\n",
       "      <td>5.0</td>\n",
       "      <td>1357010028</td>\n",
       "    </tr>\n",
       "    <tr>\n",
       "      <th>15253</th>\n",
       "      <td>160</td>\n",
       "      <td>1091</td>\n",
       "      <td>3.0</td>\n",
       "      <td>1077935119</td>\n",
       "    </tr>\n",
       "    <tr>\n",
       "      <th>...</th>\n",
       "      <td>...</td>\n",
       "      <td>...</td>\n",
       "      <td>...</td>\n",
       "      <td>...</td>\n",
       "    </tr>\n",
       "    <tr>\n",
       "      <th>27738212</th>\n",
       "      <td>283045</td>\n",
       "      <td>1091</td>\n",
       "      <td>2.0</td>\n",
       "      <td>1139014578</td>\n",
       "    </tr>\n",
       "    <tr>\n",
       "      <th>27740956</th>\n",
       "      <td>283093</td>\n",
       "      <td>1091</td>\n",
       "      <td>2.0</td>\n",
       "      <td>1235610973</td>\n",
       "    </tr>\n",
       "    <tr>\n",
       "      <th>27742046</th>\n",
       "      <td>283099</td>\n",
       "      <td>1091</td>\n",
       "      <td>3.5</td>\n",
       "      <td>1192949336</td>\n",
       "    </tr>\n",
       "    <tr>\n",
       "      <th>27750298</th>\n",
       "      <td>283195</td>\n",
       "      <td>1091</td>\n",
       "      <td>4.0</td>\n",
       "      <td>1021944932</td>\n",
       "    </tr>\n",
       "    <tr>\n",
       "      <th>27753144</th>\n",
       "      <td>283224</td>\n",
       "      <td>1091</td>\n",
       "      <td>2.0</td>\n",
       "      <td>851000060</td>\n",
       "    </tr>\n",
       "  </tbody>\n",
       "</table>\n",
       "<p>6138 rows × 4 columns</p>\n",
       "</div>"
      ],
      "text/plain": [
       "          userId  movieId  rating   timestamp\n",
       "2              1     1091     1.5  1256677471\n",
       "210            4     1091     1.0  1127946740\n",
       "12101        133     1091     1.0  1196541969\n",
       "12240        134     1091     5.0  1357010028\n",
       "15253        160     1091     3.0  1077935119\n",
       "...          ...      ...     ...         ...\n",
       "27738212  283045     1091     2.0  1139014578\n",
       "27740956  283093     1091     2.0  1235610973\n",
       "27742046  283099     1091     3.5  1192949336\n",
       "27750298  283195     1091     4.0  1021944932\n",
       "27753144  283224     1091     2.0   851000060\n",
       "\n",
       "[6138 rows x 4 columns]"
      ]
     },
     "execution_count": 105,
     "metadata": {},
     "output_type": "execute_result"
    }
   ],
   "source": [
    "ratings[(ratings['movieId']==1091)]"
   ]
  },
  {
   "cell_type": "markdown",
   "metadata": {},
   "source": [
    "We can check the count for each rating by using the value_counts() function."
   ]
  },
  {
   "cell_type": "code",
   "execution_count": 106,
   "metadata": {},
   "outputs": [
    {
     "data": {
      "text/plain": [
       "4.0    7394710\n",
       "3.0    5515668\n",
       "5.0    4071135\n",
       "3.5    3404360\n",
       "4.5    2373550\n",
       "2.0    1850627\n",
       "2.5    1373419\n",
       "1.0     886233\n",
       "0.5     442388\n",
       "1.5     441354\n",
       "Name: rating, dtype: int64"
      ]
     },
     "execution_count": 106,
     "metadata": {},
     "output_type": "execute_result"
    }
   ],
   "source": [
    "ratings['rating'].value_counts()"
   ]
  },
  {
   "cell_type": "code",
   "execution_count": null,
   "metadata": {},
   "outputs": [],
   "source": []
  },
  {
   "cell_type": "code",
   "execution_count": null,
   "metadata": {},
   "outputs": [],
   "source": []
  },
  {
   "cell_type": "markdown",
   "metadata": {},
   "source": [
    "## MOVIES"
   ]
  },
  {
   "cell_type": "markdown",
   "metadata": {},
   "source": [
    "### Let us now perform similar operations on the movies.csv file. "
   ]
  },
  {
   "cell_type": "code",
   "execution_count": 107,
   "metadata": {},
   "outputs": [
    {
     "data": {
      "text/html": [
       "<div>\n",
       "<style scoped>\n",
       "    .dataframe tbody tr th:only-of-type {\n",
       "        vertical-align: middle;\n",
       "    }\n",
       "\n",
       "    .dataframe tbody tr th {\n",
       "        vertical-align: top;\n",
       "    }\n",
       "\n",
       "    .dataframe thead th {\n",
       "        text-align: right;\n",
       "    }\n",
       "</style>\n",
       "<table border=\"1\" class=\"dataframe\">\n",
       "  <thead>\n",
       "    <tr style=\"text-align: right;\">\n",
       "      <th></th>\n",
       "      <th>movieId</th>\n",
       "      <th>title</th>\n",
       "      <th>genres</th>\n",
       "    </tr>\n",
       "  </thead>\n",
       "  <tbody>\n",
       "    <tr>\n",
       "      <th>41430</th>\n",
       "      <td>156555</td>\n",
       "      <td>Sundays (2015)</td>\n",
       "      <td>Sci-Fi</td>\n",
       "    </tr>\n",
       "    <tr>\n",
       "      <th>22232</th>\n",
       "      <td>106022</td>\n",
       "      <td>Toy Story of Terror (2013)</td>\n",
       "      <td>Animation|Children|Comedy</td>\n",
       "    </tr>\n",
       "    <tr>\n",
       "      <th>11304</th>\n",
       "      <td>47868</td>\n",
       "      <td>Ronja Robbersdaughter (Ronja Rövardotter) (1984)</td>\n",
       "      <td>Adventure|Children|Drama</td>\n",
       "    </tr>\n",
       "    <tr>\n",
       "      <th>34347</th>\n",
       "      <td>139811</td>\n",
       "      <td>Dog Eat Dog (2009)</td>\n",
       "      <td>Action|Drama|Romance|Thriller</td>\n",
       "    </tr>\n",
       "    <tr>\n",
       "      <th>39440</th>\n",
       "      <td>151969</td>\n",
       "      <td>Style (2001)</td>\n",
       "      <td>Thriller</td>\n",
       "    </tr>\n",
       "  </tbody>\n",
       "</table>\n",
       "</div>"
      ],
      "text/plain": [
       "       movieId                                             title  \\\n",
       "41430   156555                                    Sundays (2015)   \n",
       "22232   106022                        Toy Story of Terror (2013)   \n",
       "11304    47868  Ronja Robbersdaughter (Ronja Rövardotter) (1984)   \n",
       "34347   139811                                Dog Eat Dog (2009)   \n",
       "39440   151969                                      Style (2001)   \n",
       "\n",
       "                              genres  \n",
       "41430                         Sci-Fi  \n",
       "22232      Animation|Children|Comedy  \n",
       "11304       Adventure|Children|Drama  \n",
       "34347  Action|Drama|Romance|Thriller  \n",
       "39440                       Thriller  "
      ]
     },
     "execution_count": 107,
     "metadata": {},
     "output_type": "execute_result"
    }
   ],
   "source": [
    "movies_raw = pd.read_csv(MOVIES_FILEPATH)\n",
    "movies_raw.sample(5)"
   ]
  },
  {
   "cell_type": "markdown",
   "metadata": {},
   "source": [
    "- We'll first make a copy of the original dataframe. Let us store the dataframe in the movies varible,\n",
    "- Let us use the info() funtion to understand the diffrent data types we'll be dealing with during the analysis. This will make it easy for us to perform related operations."
   ]
  },
  {
   "cell_type": "code",
   "execution_count": 108,
   "metadata": {},
   "outputs": [
    {
     "name": "stdout",
     "output_type": "stream",
     "text": [
      "<class 'pandas.core.frame.DataFrame'>\n",
      "RangeIndex: 58098 entries, 0 to 58097\n",
      "Data columns (total 3 columns):\n",
      " #   Column   Non-Null Count  Dtype \n",
      "---  ------   --------------  ----- \n",
      " 0   movieId  58098 non-null  int64 \n",
      " 1   title    58098 non-null  object\n",
      " 2   genres   58098 non-null  object\n",
      "dtypes: int64(1), object(2)\n",
      "memory usage: 1.3+ MB\n"
     ]
    }
   ],
   "source": [
    "movies = movies_raw.copy()\n",
    "movies.info()"
   ]
  },
  {
   "cell_type": "markdown",
   "metadata": {},
   "source": [
    "- Now let us check if there is any null values present in the dataframe.\n",
    "- If we find any null values, we must drop that particular row to get better insights and analysis. \n",
    "- We can use the isnull() function to identify the null columns and sum() funtion to get the total."
   ]
  },
  {
   "cell_type": "code",
   "execution_count": 109,
   "metadata": {},
   "outputs": [
    {
     "data": {
      "text/plain": [
       "movieId    0\n",
       "title      0\n",
       "genres     0\n",
       "dtype: int64"
      ]
     },
     "execution_count": 109,
     "metadata": {},
     "output_type": "execute_result"
    }
   ],
   "source": [
    "movies.isnull().sum()"
   ]
  },
  {
   "cell_type": "markdown",
   "metadata": {},
   "source": [
    "The next step is to check if there is any duplicate values present in the dataset. As multiple similar values will fail to give us a good insights of the data we're dealing with and computationally cost the model.\n",
    "- We use the duplicated() function to check for duplicate values and pass keep=False as the argument. This will show the duplicate values present in the dataframe.\n",
    "- And then use the sum() function to calculate the total number of duplicate values present."
   ]
  },
  {
   "cell_type": "code",
   "execution_count": 110,
   "metadata": {},
   "outputs": [
    {
     "data": {
      "text/plain": [
       "0"
      ]
     },
     "execution_count": 110,
     "metadata": {},
     "output_type": "execute_result"
    }
   ],
   "source": [
    "movies.duplicated(keep=False).sum()"
   ]
  },
  {
   "cell_type": "markdown",
   "metadata": {},
   "source": [
    "- Let us now find the unique 'genres' present in the dataset using the unique() function. \n",
    "- shape function returns number of rows present, by which we can determine the total no of different genres present in the dataset."
   ]
  },
  {
   "cell_type": "code",
   "execution_count": 111,
   "metadata": {},
   "outputs": [
    {
     "data": {
      "text/plain": [
       "(1643,)"
      ]
     },
     "execution_count": 111,
     "metadata": {},
     "output_type": "execute_result"
    }
   ],
   "source": [
    "movies['genres'].unique().shape"
   ]
  },
  {
   "cell_type": "markdown",
   "metadata": {},
   "source": [
    "- Now we find the duplicate values w.r.t to 'title' and 'genres' only. "
   ]
  },
  {
   "cell_type": "code",
   "execution_count": 112,
   "metadata": {},
   "outputs": [
    {
     "data": {
      "text/plain": [
       "14"
      ]
     },
     "execution_count": 112,
     "metadata": {},
     "output_type": "execute_result"
    }
   ],
   "source": [
    "movies.duplicated(['title','genres']).sum()"
   ]
  },
  {
   "cell_type": "markdown",
   "metadata": {},
   "source": [
    "Now that we have found 14 duplicates present in the data, we shall now see how we can handle these duplicate data."
   ]
  },
  {
   "cell_type": "markdown",
   "metadata": {},
   "source": [
    "- Create a new variable dup_movies to store the values of duplicate movies w.r.t 'genres' and 'title'.\n",
    "- Then, find the unique titles present in the duplicate vairables."
   ]
  },
  {
   "cell_type": "code",
   "execution_count": 113,
   "metadata": {},
   "outputs": [
    {
     "data": {
      "text/plain": [
       "array(['Offside (2006)', 'Girl, The (2012)', 'Beneath (2013)',\n",
       "       'Clear History (2013)', 'Johnny Express (2014)', 'Darling (2007)',\n",
       "       'Home (2008)', 'Macbeth (2015)', 'Seven Years Bad Luck (1921)',\n",
       "       'Little Man (2006)', 'Dracula (1931)', 'Lucky (2017)',\n",
       "       'Detour (2017)', 'Berlin Calling (2008)'], dtype=object)"
      ]
     },
     "execution_count": 113,
     "metadata": {},
     "output_type": "execute_result"
    }
   ],
   "source": [
    "dup_movies = movies[movies.duplicated(['title','genres'])]\n",
    "dup_movies.title.unique()"
   ]
  },
  {
   "cell_type": "markdown",
   "metadata": {},
   "source": [
    "In this step we visualize the duplicate values which we identified in the previous step."
   ]
  },
  {
   "cell_type": "code",
   "execution_count": 114,
   "metadata": {},
   "outputs": [
    {
     "data": {
      "text/html": [
       "<div>\n",
       "<style scoped>\n",
       "    .dataframe tbody tr th:only-of-type {\n",
       "        vertical-align: middle;\n",
       "    }\n",
       "\n",
       "    .dataframe tbody tr th {\n",
       "        vertical-align: top;\n",
       "    }\n",
       "\n",
       "    .dataframe thead th {\n",
       "        text-align: right;\n",
       "    }\n",
       "</style>\n",
       "<table border=\"1\" class=\"dataframe\">\n",
       "  <thead>\n",
       "    <tr style=\"text-align: right;\">\n",
       "      <th></th>\n",
       "      <th>movieId</th>\n",
       "      <th>title</th>\n",
       "      <th>genres</th>\n",
       "    </tr>\n",
       "  </thead>\n",
       "  <tbody>\n",
       "    <tr>\n",
       "      <th>11412</th>\n",
       "      <td>48682</td>\n",
       "      <td>Offside (2006)</td>\n",
       "      <td>Comedy|Drama</td>\n",
       "    </tr>\n",
       "    <tr>\n",
       "      <th>15902</th>\n",
       "      <td>80330</td>\n",
       "      <td>Offside (2006)</td>\n",
       "      <td>Comedy|Drama</td>\n",
       "    </tr>\n",
       "  </tbody>\n",
       "</table>\n",
       "</div>"
      ],
      "text/plain": [
       "       movieId           title        genres\n",
       "11412    48682  Offside (2006)  Comedy|Drama\n",
       "15902    80330  Offside (2006)  Comedy|Drama"
      ]
     },
     "metadata": {},
     "output_type": "display_data"
    },
    {
     "data": {
      "text/html": [
       "<div>\n",
       "<style scoped>\n",
       "    .dataframe tbody tr th:only-of-type {\n",
       "        vertical-align: middle;\n",
       "    }\n",
       "\n",
       "    .dataframe tbody tr th {\n",
       "        vertical-align: top;\n",
       "    }\n",
       "\n",
       "    .dataframe thead th {\n",
       "        text-align: right;\n",
       "    }\n",
       "</style>\n",
       "<table border=\"1\" class=\"dataframe\">\n",
       "  <thead>\n",
       "    <tr style=\"text-align: right;\">\n",
       "      <th></th>\n",
       "      <th>movieId</th>\n",
       "      <th>title</th>\n",
       "      <th>genres</th>\n",
       "    </tr>\n",
       "  </thead>\n",
       "  <tbody>\n",
       "    <tr>\n",
       "      <th>19914</th>\n",
       "      <td>97773</td>\n",
       "      <td>Girl, The (2012)</td>\n",
       "      <td>Drama</td>\n",
       "    </tr>\n",
       "    <tr>\n",
       "      <th>20835</th>\n",
       "      <td>101212</td>\n",
       "      <td>Girl, The (2012)</td>\n",
       "      <td>Drama</td>\n",
       "    </tr>\n",
       "  </tbody>\n",
       "</table>\n",
       "</div>"
      ],
      "text/plain": [
       "       movieId             title genres\n",
       "19914    97773  Girl, The (2012)  Drama\n",
       "20835   101212  Girl, The (2012)  Drama"
      ]
     },
     "metadata": {},
     "output_type": "display_data"
    },
    {
     "data": {
      "text/html": [
       "<div>\n",
       "<style scoped>\n",
       "    .dataframe tbody tr th:only-of-type {\n",
       "        vertical-align: middle;\n",
       "    }\n",
       "\n",
       "    .dataframe tbody tr th {\n",
       "        vertical-align: top;\n",
       "    }\n",
       "\n",
       "    .dataframe thead th {\n",
       "        text-align: right;\n",
       "    }\n",
       "</style>\n",
       "<table border=\"1\" class=\"dataframe\">\n",
       "  <thead>\n",
       "    <tr style=\"text-align: right;\">\n",
       "      <th></th>\n",
       "      <th>movieId</th>\n",
       "      <th>title</th>\n",
       "      <th>genres</th>\n",
       "    </tr>\n",
       "  </thead>\n",
       "  <tbody>\n",
       "    <tr>\n",
       "      <th>21655</th>\n",
       "      <td>104035</td>\n",
       "      <td>Beneath (2013)</td>\n",
       "      <td>Horror</td>\n",
       "    </tr>\n",
       "    <tr>\n",
       "      <th>25046</th>\n",
       "      <td>115777</td>\n",
       "      <td>Beneath (2013)</td>\n",
       "      <td>Horror</td>\n",
       "    </tr>\n",
       "  </tbody>\n",
       "</table>\n",
       "</div>"
      ],
      "text/plain": [
       "       movieId           title  genres\n",
       "21655   104035  Beneath (2013)  Horror\n",
       "25046   115777  Beneath (2013)  Horror"
      ]
     },
     "metadata": {},
     "output_type": "display_data"
    },
    {
     "data": {
      "text/html": [
       "<div>\n",
       "<style scoped>\n",
       "    .dataframe tbody tr th:only-of-type {\n",
       "        vertical-align: middle;\n",
       "    }\n",
       "\n",
       "    .dataframe tbody tr th {\n",
       "        vertical-align: top;\n",
       "    }\n",
       "\n",
       "    .dataframe thead th {\n",
       "        text-align: right;\n",
       "    }\n",
       "</style>\n",
       "<table border=\"1\" class=\"dataframe\">\n",
       "  <thead>\n",
       "    <tr style=\"text-align: right;\">\n",
       "      <th></th>\n",
       "      <th>movieId</th>\n",
       "      <th>title</th>\n",
       "      <th>genres</th>\n",
       "    </tr>\n",
       "  </thead>\n",
       "  <tbody>\n",
       "    <tr>\n",
       "      <th>21691</th>\n",
       "      <td>104155</td>\n",
       "      <td>Clear History (2013)</td>\n",
       "      <td>Comedy</td>\n",
       "    </tr>\n",
       "    <tr>\n",
       "      <th>27572</th>\n",
       "      <td>122940</td>\n",
       "      <td>Clear History (2013)</td>\n",
       "      <td>Comedy</td>\n",
       "    </tr>\n",
       "  </tbody>\n",
       "</table>\n",
       "</div>"
      ],
      "text/plain": [
       "       movieId                 title  genres\n",
       "21691   104155  Clear History (2013)  Comedy\n",
       "27572   122940  Clear History (2013)  Comedy"
      ]
     },
     "metadata": {},
     "output_type": "display_data"
    },
    {
     "data": {
      "text/html": [
       "<div>\n",
       "<style scoped>\n",
       "    .dataframe tbody tr th:only-of-type {\n",
       "        vertical-align: middle;\n",
       "    }\n",
       "\n",
       "    .dataframe tbody tr th {\n",
       "        vertical-align: top;\n",
       "    }\n",
       "\n",
       "    .dataframe thead th {\n",
       "        text-align: right;\n",
       "    }\n",
       "</style>\n",
       "<table border=\"1\" class=\"dataframe\">\n",
       "  <thead>\n",
       "    <tr style=\"text-align: right;\">\n",
       "      <th></th>\n",
       "      <th>movieId</th>\n",
       "      <th>title</th>\n",
       "      <th>genres</th>\n",
       "    </tr>\n",
       "  </thead>\n",
       "  <tbody>\n",
       "    <tr>\n",
       "      <th>23834</th>\n",
       "      <td>111519</td>\n",
       "      <td>Johnny Express (2014)</td>\n",
       "      <td>Animation|Comedy|Sci-Fi</td>\n",
       "    </tr>\n",
       "    <tr>\n",
       "      <th>29852</th>\n",
       "      <td>128991</td>\n",
       "      <td>Johnny Express (2014)</td>\n",
       "      <td>Animation|Comedy|Sci-Fi</td>\n",
       "    </tr>\n",
       "  </tbody>\n",
       "</table>\n",
       "</div>"
      ],
      "text/plain": [
       "       movieId                  title                   genres\n",
       "23834   111519  Johnny Express (2014)  Animation|Comedy|Sci-Fi\n",
       "29852   128991  Johnny Express (2014)  Animation|Comedy|Sci-Fi"
      ]
     },
     "metadata": {},
     "output_type": "display_data"
    },
    {
     "data": {
      "text/html": [
       "<div>\n",
       "<style scoped>\n",
       "    .dataframe tbody tr th:only-of-type {\n",
       "        vertical-align: middle;\n",
       "    }\n",
       "\n",
       "    .dataframe tbody tr th {\n",
       "        vertical-align: top;\n",
       "    }\n",
       "\n",
       "    .dataframe thead th {\n",
       "        text-align: right;\n",
       "    }\n",
       "</style>\n",
       "<table border=\"1\" class=\"dataframe\">\n",
       "  <thead>\n",
       "    <tr style=\"text-align: right;\">\n",
       "      <th></th>\n",
       "      <th>movieId</th>\n",
       "      <th>title</th>\n",
       "      <th>genres</th>\n",
       "    </tr>\n",
       "  </thead>\n",
       "  <tbody>\n",
       "    <tr>\n",
       "      <th>18867</th>\n",
       "      <td>93279</td>\n",
       "      <td>Darling (2007)</td>\n",
       "      <td>Drama</td>\n",
       "    </tr>\n",
       "    <tr>\n",
       "      <th>30226</th>\n",
       "      <td>130062</td>\n",
       "      <td>Darling (2007)</td>\n",
       "      <td>Drama</td>\n",
       "    </tr>\n",
       "  </tbody>\n",
       "</table>\n",
       "</div>"
      ],
      "text/plain": [
       "       movieId           title genres\n",
       "18867    93279  Darling (2007)  Drama\n",
       "30226   130062  Darling (2007)  Drama"
      ]
     },
     "metadata": {},
     "output_type": "display_data"
    },
    {
     "data": {
      "text/html": [
       "<div>\n",
       "<style scoped>\n",
       "    .dataframe tbody tr th:only-of-type {\n",
       "        vertical-align: middle;\n",
       "    }\n",
       "\n",
       "    .dataframe tbody tr th {\n",
       "        vertical-align: top;\n",
       "    }\n",
       "\n",
       "    .dataframe thead th {\n",
       "        text-align: right;\n",
       "    }\n",
       "</style>\n",
       "<table border=\"1\" class=\"dataframe\">\n",
       "  <thead>\n",
       "    <tr style=\"text-align: right;\">\n",
       "      <th></th>\n",
       "      <th>movieId</th>\n",
       "      <th>title</th>\n",
       "      <th>genres</th>\n",
       "    </tr>\n",
       "  </thead>\n",
       "  <tbody>\n",
       "    <tr>\n",
       "      <th>15637</th>\n",
       "      <td>79254</td>\n",
       "      <td>Home (2008)</td>\n",
       "      <td>Drama</td>\n",
       "    </tr>\n",
       "    <tr>\n",
       "      <th>36172</th>\n",
       "      <td>143978</td>\n",
       "      <td>Home (2008)</td>\n",
       "      <td>Drama</td>\n",
       "    </tr>\n",
       "  </tbody>\n",
       "</table>\n",
       "</div>"
      ],
      "text/plain": [
       "       movieId        title genres\n",
       "15637    79254  Home (2008)  Drama\n",
       "36172   143978  Home (2008)  Drama"
      ]
     },
     "metadata": {},
     "output_type": "display_data"
    },
    {
     "data": {
      "text/html": [
       "<div>\n",
       "<style scoped>\n",
       "    .dataframe tbody tr th:only-of-type {\n",
       "        vertical-align: middle;\n",
       "    }\n",
       "\n",
       "    .dataframe tbody tr th {\n",
       "        vertical-align: top;\n",
       "    }\n",
       "\n",
       "    .dataframe thead th {\n",
       "        text-align: right;\n",
       "    }\n",
       "</style>\n",
       "<table border=\"1\" class=\"dataframe\">\n",
       "  <thead>\n",
       "    <tr style=\"text-align: right;\">\n",
       "      <th></th>\n",
       "      <th>movieId</th>\n",
       "      <th>title</th>\n",
       "      <th>genres</th>\n",
       "    </tr>\n",
       "  </thead>\n",
       "  <tbody>\n",
       "    <tr>\n",
       "      <th>33001</th>\n",
       "      <td>136564</td>\n",
       "      <td>Macbeth (2015)</td>\n",
       "      <td>Drama</td>\n",
       "    </tr>\n",
       "    <tr>\n",
       "      <th>38804</th>\n",
       "      <td>150310</td>\n",
       "      <td>Macbeth (2015)</td>\n",
       "      <td>Drama</td>\n",
       "    </tr>\n",
       "  </tbody>\n",
       "</table>\n",
       "</div>"
      ],
      "text/plain": [
       "       movieId           title genres\n",
       "33001   136564  Macbeth (2015)  Drama\n",
       "38804   150310  Macbeth (2015)  Drama"
      ]
     },
     "metadata": {},
     "output_type": "display_data"
    },
    {
     "data": {
      "text/html": [
       "<div>\n",
       "<style scoped>\n",
       "    .dataframe tbody tr th:only-of-type {\n",
       "        vertical-align: middle;\n",
       "    }\n",
       "\n",
       "    .dataframe tbody tr th {\n",
       "        vertical-align: top;\n",
       "    }\n",
       "\n",
       "    .dataframe thead th {\n",
       "        text-align: right;\n",
       "    }\n",
       "</style>\n",
       "<table border=\"1\" class=\"dataframe\">\n",
       "  <thead>\n",
       "    <tr style=\"text-align: right;\">\n",
       "      <th></th>\n",
       "      <th>movieId</th>\n",
       "      <th>title</th>\n",
       "      <th>genres</th>\n",
       "    </tr>\n",
       "  </thead>\n",
       "  <tbody>\n",
       "    <tr>\n",
       "      <th>14038</th>\n",
       "      <td>70155</td>\n",
       "      <td>Seven Years Bad Luck (1921)</td>\n",
       "      <td>Comedy</td>\n",
       "    </tr>\n",
       "    <tr>\n",
       "      <th>44387</th>\n",
       "      <td>163246</td>\n",
       "      <td>Seven Years Bad Luck (1921)</td>\n",
       "      <td>Comedy</td>\n",
       "    </tr>\n",
       "  </tbody>\n",
       "</table>\n",
       "</div>"
      ],
      "text/plain": [
       "       movieId                        title  genres\n",
       "14038    70155  Seven Years Bad Luck (1921)  Comedy\n",
       "44387   163246  Seven Years Bad Luck (1921)  Comedy"
      ]
     },
     "metadata": {},
     "output_type": "display_data"
    },
    {
     "data": {
      "text/html": [
       "<div>\n",
       "<style scoped>\n",
       "    .dataframe tbody tr th:only-of-type {\n",
       "        vertical-align: middle;\n",
       "    }\n",
       "\n",
       "    .dataframe tbody tr th {\n",
       "        vertical-align: top;\n",
       "    }\n",
       "\n",
       "    .dataframe thead th {\n",
       "        text-align: right;\n",
       "    }\n",
       "</style>\n",
       "<table border=\"1\" class=\"dataframe\">\n",
       "  <thead>\n",
       "    <tr style=\"text-align: right;\">\n",
       "      <th></th>\n",
       "      <th>movieId</th>\n",
       "      <th>title</th>\n",
       "      <th>genres</th>\n",
       "    </tr>\n",
       "  </thead>\n",
       "  <tbody>\n",
       "    <tr>\n",
       "      <th>11173</th>\n",
       "      <td>46865</td>\n",
       "      <td>Little Man (2006)</td>\n",
       "      <td>Comedy</td>\n",
       "    </tr>\n",
       "    <tr>\n",
       "      <th>48620</th>\n",
       "      <td>172427</td>\n",
       "      <td>Little Man (2006)</td>\n",
       "      <td>Comedy</td>\n",
       "    </tr>\n",
       "  </tbody>\n",
       "</table>\n",
       "</div>"
      ],
      "text/plain": [
       "       movieId              title  genres\n",
       "11173    46865  Little Man (2006)  Comedy\n",
       "48620   172427  Little Man (2006)  Comedy"
      ]
     },
     "metadata": {},
     "output_type": "display_data"
    },
    {
     "data": {
      "text/html": [
       "<div>\n",
       "<style scoped>\n",
       "    .dataframe tbody tr th:only-of-type {\n",
       "        vertical-align: middle;\n",
       "    }\n",
       "\n",
       "    .dataframe tbody tr th {\n",
       "        vertical-align: top;\n",
       "    }\n",
       "\n",
       "    .dataframe thead th {\n",
       "        text-align: right;\n",
       "    }\n",
       "</style>\n",
       "<table border=\"1\" class=\"dataframe\">\n",
       "  <thead>\n",
       "    <tr style=\"text-align: right;\">\n",
       "      <th></th>\n",
       "      <th>movieId</th>\n",
       "      <th>title</th>\n",
       "      <th>genres</th>\n",
       "    </tr>\n",
       "  </thead>\n",
       "  <tbody>\n",
       "    <tr>\n",
       "      <th>2560</th>\n",
       "      <td>2644</td>\n",
       "      <td>Dracula (1931)</td>\n",
       "      <td>Horror</td>\n",
       "    </tr>\n",
       "    <tr>\n",
       "      <th>52192</th>\n",
       "      <td>180205</td>\n",
       "      <td>Dracula (1931)</td>\n",
       "      <td>Horror</td>\n",
       "    </tr>\n",
       "  </tbody>\n",
       "</table>\n",
       "</div>"
      ],
      "text/plain": [
       "       movieId           title  genres\n",
       "2560      2644  Dracula (1931)  Horror\n",
       "52192   180205  Dracula (1931)  Horror"
      ]
     },
     "metadata": {},
     "output_type": "display_data"
    },
    {
     "data": {
      "text/html": [
       "<div>\n",
       "<style scoped>\n",
       "    .dataframe tbody tr th:only-of-type {\n",
       "        vertical-align: middle;\n",
       "    }\n",
       "\n",
       "    .dataframe tbody tr th {\n",
       "        vertical-align: top;\n",
       "    }\n",
       "\n",
       "    .dataframe thead th {\n",
       "        text-align: right;\n",
       "    }\n",
       "</style>\n",
       "<table border=\"1\" class=\"dataframe\">\n",
       "  <thead>\n",
       "    <tr style=\"text-align: right;\">\n",
       "      <th></th>\n",
       "      <th>movieId</th>\n",
       "      <th>title</th>\n",
       "      <th>genres</th>\n",
       "    </tr>\n",
       "  </thead>\n",
       "  <tbody>\n",
       "    <tr>\n",
       "      <th>51339</th>\n",
       "      <td>178401</td>\n",
       "      <td>Lucky (2017)</td>\n",
       "      <td>Drama</td>\n",
       "    </tr>\n",
       "    <tr>\n",
       "      <th>52644</th>\n",
       "      <td>181329</td>\n",
       "      <td>Lucky (2017)</td>\n",
       "      <td>Drama</td>\n",
       "    </tr>\n",
       "  </tbody>\n",
       "</table>\n",
       "</div>"
      ],
      "text/plain": [
       "       movieId         title genres\n",
       "51339   178401  Lucky (2017)  Drama\n",
       "52644   181329  Lucky (2017)  Drama"
      ]
     },
     "metadata": {},
     "output_type": "display_data"
    },
    {
     "data": {
      "text/html": [
       "<div>\n",
       "<style scoped>\n",
       "    .dataframe tbody tr th:only-of-type {\n",
       "        vertical-align: middle;\n",
       "    }\n",
       "\n",
       "    .dataframe tbody tr th {\n",
       "        vertical-align: top;\n",
       "    }\n",
       "\n",
       "    .dataframe thead th {\n",
       "        text-align: right;\n",
       "    }\n",
       "</style>\n",
       "<table border=\"1\" class=\"dataframe\">\n",
       "  <thead>\n",
       "    <tr style=\"text-align: right;\">\n",
       "      <th></th>\n",
       "      <th>movieId</th>\n",
       "      <th>title</th>\n",
       "      <th>genres</th>\n",
       "    </tr>\n",
       "  </thead>\n",
       "  <tbody>\n",
       "    <tr>\n",
       "      <th>46904</th>\n",
       "      <td>168774</td>\n",
       "      <td>Detour (2017)</td>\n",
       "      <td>Thriller</td>\n",
       "    </tr>\n",
       "    <tr>\n",
       "      <th>52795</th>\n",
       "      <td>181655</td>\n",
       "      <td>Detour (2017)</td>\n",
       "      <td>Thriller</td>\n",
       "    </tr>\n",
       "  </tbody>\n",
       "</table>\n",
       "</div>"
      ],
      "text/plain": [
       "       movieId          title    genres\n",
       "46904   168774  Detour (2017)  Thriller\n",
       "52795   181655  Detour (2017)  Thriller"
      ]
     },
     "metadata": {},
     "output_type": "display_data"
    },
    {
     "data": {
      "text/html": [
       "<div>\n",
       "<style scoped>\n",
       "    .dataframe tbody tr th:only-of-type {\n",
       "        vertical-align: middle;\n",
       "    }\n",
       "\n",
       "    .dataframe tbody tr th {\n",
       "        vertical-align: top;\n",
       "    }\n",
       "\n",
       "    .dataframe thead th {\n",
       "        text-align: right;\n",
       "    }\n",
       "</style>\n",
       "<table border=\"1\" class=\"dataframe\">\n",
       "  <thead>\n",
       "    <tr style=\"text-align: right;\">\n",
       "      <th></th>\n",
       "      <th>movieId</th>\n",
       "      <th>title</th>\n",
       "      <th>genres</th>\n",
       "    </tr>\n",
       "  </thead>\n",
       "  <tbody>\n",
       "    <tr>\n",
       "      <th>13504</th>\n",
       "      <td>66511</td>\n",
       "      <td>Berlin Calling (2008)</td>\n",
       "      <td>Comedy|Drama</td>\n",
       "    </tr>\n",
       "    <tr>\n",
       "      <th>57269</th>\n",
       "      <td>191775</td>\n",
       "      <td>Berlin Calling (2008)</td>\n",
       "      <td>Comedy|Drama</td>\n",
       "    </tr>\n",
       "  </tbody>\n",
       "</table>\n",
       "</div>"
      ],
      "text/plain": [
       "       movieId                  title        genres\n",
       "13504    66511  Berlin Calling (2008)  Comedy|Drama\n",
       "57269   191775  Berlin Calling (2008)  Comedy|Drama"
      ]
     },
     "metadata": {},
     "output_type": "display_data"
    }
   ],
   "source": [
    "for m in dup_movies.title.unique():\n",
    "    display(movies[movies.title==m])"
   ]
  },
  {
   "cell_type": "markdown",
   "metadata": {},
   "source": [
    "Now that we have identified the duplicate values in the movies dataframe. We shall write two functions to handle the duplicate values both in the movies dataframe and the rating dataframe.\n",
    "\n",
    "- The replace_movie_id_in_rating_dataframe function is called to replace the movieId in ratings dataframe as it'll be changed in the movie dataframe as well."
   ]
  },
  {
   "cell_type": "code",
   "execution_count": 115,
   "metadata": {},
   "outputs": [],
   "source": [
    "def replace_movie_id_in_rating_dataframe(dataframe: pd.DataFrame, new_movie_id: int, old_movie_id: int) \\\n",
    "    -> pd.DataFrame:\n",
    "    dataframe.loc[dataframe.movieId == old_movie_id, 'movieId'] = new_movie_id\n",
    "    return dataframe"
   ]
  },
  {
   "cell_type": "code",
   "execution_count": 116,
   "metadata": {},
   "outputs": [
    {
     "data": {
      "text/plain": [
       "4"
      ]
     },
     "execution_count": 116,
     "metadata": {},
     "output_type": "execute_result"
    }
   ],
   "source": [
    "(ratings.movieId==172427).sum()"
   ]
  },
  {
   "cell_type": "markdown",
   "metadata": {},
   "source": [
    "- The remove_old_movie_ids_from_movies_dataframe is called to remove duplicate values from the movies dataframe. "
   ]
  },
  {
   "cell_type": "code",
   "execution_count": 117,
   "metadata": {},
   "outputs": [],
   "source": [
    "def remove_old_movie_ids_from_movies_dataframe(dataframe: pd.DataFrame, old_movie_ids: [int]) -> pd.DataFrame:\n",
    "    target_index = dataframe[dataframe.movieId.isin(old_movie_ids)].index\n",
    "    dataframe = dataframe.drop(target_index)\n",
    "    return dataframe"
   ]
  },
  {
   "cell_type": "markdown",
   "metadata": {},
   "source": [
    "Let us build a main function f which handles both the functions:\n",
    "- replace_movie_id_in_rating_dataframe \n",
    "- remove_old_movie_ids_from_movies_dataframe. \n",
    "\n",
    "So that we only have to pass in the dataframes into the function and it takes care of all the realted operations. "
   ]
  },
  {
   "cell_type": "code",
   "execution_count": 118,
   "metadata": {},
   "outputs": [],
   "source": [
    "def f(movies_dataframe: pd.DataFrame, ratings_dataframe: pd.DataFrame) -> (pd.DataFrame, pd.DataFrame):\n",
    "    duplicates = movies_dataframe[movies_dataframe.duplicated(subset=['title', 'genres'], keep=False)]\n",
    "    old_movie_ids = []\n",
    "    for movie_title in duplicates.title.unique():\n",
    "        movie_ids = duplicates[duplicates.title == movie_title].movieId.values\n",
    "        new_movie_id, old_movie_id = movie_ids\n",
    "        ratings_dataframe = replace_movie_id_in_rating_dataframe(ratings_dataframe, new_movie_id, old_movie_id)\n",
    "        old_movie_ids.append(old_movie_id)\n",
    "    movies_dataframe = remove_old_movie_ids_from_movies_dataframe(movies_dataframe, old_movie_ids)\n",
    "    return movies_dataframe, ratings_dataframe\n",
    "\n",
    "movies2 , ratings2 = f(movies,ratings)"
   ]
  },
  {
   "cell_type": "markdown",
   "metadata": {},
   "source": [
    "Let us confirm whether the operations have been successfully executed by calculating the difference between the movies_raw dataframe and\n",
    "the movies2 dataframe. The value of this should be equal to 14, as we've taken out 14 duplicates from the dataframe."
   ]
  },
  {
   "cell_type": "code",
   "execution_count": 119,
   "metadata": {},
   "outputs": [
    {
     "data": {
      "text/plain": [
       "14"
      ]
     },
     "execution_count": 119,
     "metadata": {},
     "output_type": "execute_result"
    }
   ],
   "source": [
    "len(movies_raw)-len(movies2)"
   ]
  },
  {
   "cell_type": "markdown",
   "metadata": {},
   "source": [
    "Yes, the operations have been performed. As the expected value of 14 is what we've obtained.\n",
    "\n",
    "Similarly for the ratings datframe we need to perform the operation. But since there's no duplicate we should find the difference to be 0."
   ]
  },
  {
   "cell_type": "code",
   "execution_count": 120,
   "metadata": {},
   "outputs": [
    {
     "data": {
      "text/plain": [
       "0"
      ]
     },
     "execution_count": 120,
     "metadata": {},
     "output_type": "execute_result"
    }
   ],
   "source": [
    "len(ratings_raw)-len(ratings2)"
   ]
  },
  {
   "cell_type": "markdown",
   "metadata": {},
   "source": [
    "### For further analysis let us inspect the ratings dataframe for duplicates."
   ]
  },
  {
   "cell_type": "code",
   "execution_count": 121,
   "metadata": {},
   "outputs": [
    {
     "name": "stdout",
     "output_type": "stream",
     "text": [
      "<class 'pandas.core.frame.DataFrame'>\n",
      "RangeIndex: 27753444 entries, 0 to 27753443\n",
      "Data columns (total 4 columns):\n",
      " #   Column     Dtype  \n",
      "---  ------     -----  \n",
      " 0   userId     int64  \n",
      " 1   movieId    int64  \n",
      " 2   rating     float64\n",
      " 3   timestamp  int64  \n",
      "dtypes: float64(1), int64(3)\n",
      "memory usage: 847.0 MB\n"
     ]
    }
   ],
   "source": [
    "ratings2.info()"
   ]
  },
  {
   "cell_type": "markdown",
   "metadata": {},
   "source": [
    "Now let us search for any duplicate's present in the ratings2 dataframe."
   ]
  },
  {
   "cell_type": "code",
   "execution_count": 122,
   "metadata": {},
   "outputs": [
    {
     "data": {
      "text/plain": [
       "21"
      ]
     },
     "execution_count": 122,
     "metadata": {},
     "output_type": "execute_result"
    }
   ],
   "source": [
    "ratings2.duplicated(['userId','movieId']).sum()"
   ]
  },
  {
   "cell_type": "markdown",
   "metadata": {},
   "source": [
    "We identify 21 duplicates present in the dataframe. Let us now explore deeper about the duplicates and see how to handle them."
   ]
  },
  {
   "cell_type": "code",
   "execution_count": 123,
   "metadata": {},
   "outputs": [
    {
     "data": {
      "text/html": [
       "<div>\n",
       "<style scoped>\n",
       "    .dataframe tbody tr th:only-of-type {\n",
       "        vertical-align: middle;\n",
       "    }\n",
       "\n",
       "    .dataframe tbody tr th {\n",
       "        vertical-align: top;\n",
       "    }\n",
       "\n",
       "    .dataframe thead th {\n",
       "        text-align: right;\n",
       "    }\n",
       "</style>\n",
       "<table border=\"1\" class=\"dataframe\">\n",
       "  <thead>\n",
       "    <tr style=\"text-align: right;\">\n",
       "      <th></th>\n",
       "      <th>userId</th>\n",
       "      <th>movieId</th>\n",
       "      <th>rating</th>\n",
       "      <th>timestamp</th>\n",
       "    </tr>\n",
       "  </thead>\n",
       "  <tbody>\n",
       "    <tr>\n",
       "      <th>6213836</th>\n",
       "      <td>63786</td>\n",
       "      <td>104155</td>\n",
       "      <td>0.5</td>\n",
       "      <td>1490157153</td>\n",
       "    </tr>\n",
       "    <tr>\n",
       "      <th>6214019</th>\n",
       "      <td>63786</td>\n",
       "      <td>104155</td>\n",
       "      <td>0.5</td>\n",
       "      <td>1490157134</td>\n",
       "    </tr>\n",
       "    <tr>\n",
       "      <th>6575743</th>\n",
       "      <td>67522</td>\n",
       "      <td>2644</td>\n",
       "      <td>3.0</td>\n",
       "      <td>1522388123</td>\n",
       "    </tr>\n",
       "    <tr>\n",
       "      <th>6576057</th>\n",
       "      <td>67522</td>\n",
       "      <td>2644</td>\n",
       "      <td>4.0</td>\n",
       "      <td>1522436661</td>\n",
       "    </tr>\n",
       "    <tr>\n",
       "      <th>7128279</th>\n",
       "      <td>73145</td>\n",
       "      <td>104155</td>\n",
       "      <td>4.0</td>\n",
       "      <td>1384276985</td>\n",
       "    </tr>\n",
       "    <tr>\n",
       "      <th>7128522</th>\n",
       "      <td>73145</td>\n",
       "      <td>104155</td>\n",
       "      <td>4.0</td>\n",
       "      <td>1421188224</td>\n",
       "    </tr>\n",
       "    <tr>\n",
       "      <th>8204118</th>\n",
       "      <td>84432</td>\n",
       "      <td>104155</td>\n",
       "      <td>3.5</td>\n",
       "      <td>1390947133</td>\n",
       "    </tr>\n",
       "    <tr>\n",
       "      <th>8204136</th>\n",
       "      <td>84432</td>\n",
       "      <td>104155</td>\n",
       "      <td>3.0</td>\n",
       "      <td>1432918104</td>\n",
       "    </tr>\n",
       "    <tr>\n",
       "      <th>10394207</th>\n",
       "      <td>106859</td>\n",
       "      <td>70155</td>\n",
       "      <td>3.0</td>\n",
       "      <td>1500908547</td>\n",
       "    </tr>\n",
       "    <tr>\n",
       "      <th>10394847</th>\n",
       "      <td>106859</td>\n",
       "      <td>70155</td>\n",
       "      <td>3.0</td>\n",
       "      <td>1500908560</td>\n",
       "    </tr>\n",
       "    <tr>\n",
       "      <th>10397896</th>\n",
       "      <td>106873</td>\n",
       "      <td>104155</td>\n",
       "      <td>4.0</td>\n",
       "      <td>1376975238</td>\n",
       "    </tr>\n",
       "    <tr>\n",
       "      <th>10398018</th>\n",
       "      <td>106873</td>\n",
       "      <td>104155</td>\n",
       "      <td>4.5</td>\n",
       "      <td>1436758238</td>\n",
       "    </tr>\n",
       "    <tr>\n",
       "      <th>10862664</th>\n",
       "      <td>111688</td>\n",
       "      <td>104155</td>\n",
       "      <td>4.5</td>\n",
       "      <td>1402494730</td>\n",
       "    </tr>\n",
       "    <tr>\n",
       "      <th>10862692</th>\n",
       "      <td>111688</td>\n",
       "      <td>104155</td>\n",
       "      <td>4.5</td>\n",
       "      <td>1477450047</td>\n",
       "    </tr>\n",
       "    <tr>\n",
       "      <th>12010931</th>\n",
       "      <td>123100</td>\n",
       "      <td>97773</td>\n",
       "      <td>3.0</td>\n",
       "      <td>1450166863</td>\n",
       "    </tr>\n",
       "    <tr>\n",
       "      <th>12011347</th>\n",
       "      <td>123100</td>\n",
       "      <td>97773</td>\n",
       "      <td>3.0</td>\n",
       "      <td>1450164192</td>\n",
       "    </tr>\n",
       "    <tr>\n",
       "      <th>12243097</th>\n",
       "      <td>125365</td>\n",
       "      <td>111519</td>\n",
       "      <td>4.5</td>\n",
       "      <td>1436452325</td>\n",
       "    </tr>\n",
       "    <tr>\n",
       "      <th>12243194</th>\n",
       "      <td>125365</td>\n",
       "      <td>111519</td>\n",
       "      <td>4.5</td>\n",
       "      <td>1427199640</td>\n",
       "    </tr>\n",
       "    <tr>\n",
       "      <th>15158896</th>\n",
       "      <td>154880</td>\n",
       "      <td>104155</td>\n",
       "      <td>4.0</td>\n",
       "      <td>1398187007</td>\n",
       "    </tr>\n",
       "    <tr>\n",
       "      <th>15158951</th>\n",
       "      <td>154880</td>\n",
       "      <td>104155</td>\n",
       "      <td>3.5</td>\n",
       "      <td>1512964435</td>\n",
       "    </tr>\n",
       "    <tr>\n",
       "      <th>15264429</th>\n",
       "      <td>155976</td>\n",
       "      <td>48682</td>\n",
       "      <td>3.5</td>\n",
       "      <td>1267648381</td>\n",
       "    </tr>\n",
       "    <tr>\n",
       "      <th>15264776</th>\n",
       "      <td>155976</td>\n",
       "      <td>48682</td>\n",
       "      <td>3.5</td>\n",
       "      <td>1463268492</td>\n",
       "    </tr>\n",
       "    <tr>\n",
       "      <th>15653605</th>\n",
       "      <td>159846</td>\n",
       "      <td>66511</td>\n",
       "      <td>2.0</td>\n",
       "      <td>1499318921</td>\n",
       "    </tr>\n",
       "    <tr>\n",
       "      <th>15654247</th>\n",
       "      <td>159846</td>\n",
       "      <td>66511</td>\n",
       "      <td>2.0</td>\n",
       "      <td>1534046590</td>\n",
       "    </tr>\n",
       "    <tr>\n",
       "      <th>16408991</th>\n",
       "      <td>167835</td>\n",
       "      <td>104155</td>\n",
       "      <td>3.0</td>\n",
       "      <td>1388380607</td>\n",
       "    </tr>\n",
       "    <tr>\n",
       "      <th>16409115</th>\n",
       "      <td>167835</td>\n",
       "      <td>104155</td>\n",
       "      <td>3.0</td>\n",
       "      <td>1457545603</td>\n",
       "    </tr>\n",
       "    <tr>\n",
       "      <th>17920236</th>\n",
       "      <td>183200</td>\n",
       "      <td>104035</td>\n",
       "      <td>0.5</td>\n",
       "      <td>1475292730</td>\n",
       "    </tr>\n",
       "    <tr>\n",
       "      <th>17920390</th>\n",
       "      <td>183200</td>\n",
       "      <td>104035</td>\n",
       "      <td>1.0</td>\n",
       "      <td>1475285150</td>\n",
       "    </tr>\n",
       "    <tr>\n",
       "      <th>19174782</th>\n",
       "      <td>195628</td>\n",
       "      <td>104155</td>\n",
       "      <td>3.0</td>\n",
       "      <td>1381140059</td>\n",
       "    </tr>\n",
       "    <tr>\n",
       "      <th>19174990</th>\n",
       "      <td>195628</td>\n",
       "      <td>104155</td>\n",
       "      <td>3.0</td>\n",
       "      <td>1530661998</td>\n",
       "    </tr>\n",
       "    <tr>\n",
       "      <th>19242274</th>\n",
       "      <td>196323</td>\n",
       "      <td>2644</td>\n",
       "      <td>5.0</td>\n",
       "      <td>1451170687</td>\n",
       "    </tr>\n",
       "    <tr>\n",
       "      <th>19243096</th>\n",
       "      <td>196323</td>\n",
       "      <td>2644</td>\n",
       "      <td>5.0</td>\n",
       "      <td>1530938260</td>\n",
       "    </tr>\n",
       "    <tr>\n",
       "      <th>21701689</th>\n",
       "      <td>221697</td>\n",
       "      <td>178401</td>\n",
       "      <td>4.0</td>\n",
       "      <td>1527358587</td>\n",
       "    </tr>\n",
       "    <tr>\n",
       "      <th>21701699</th>\n",
       "      <td>221697</td>\n",
       "      <td>178401</td>\n",
       "      <td>2.0</td>\n",
       "      <td>1527358755</td>\n",
       "    </tr>\n",
       "    <tr>\n",
       "      <th>22505207</th>\n",
       "      <td>230183</td>\n",
       "      <td>97773</td>\n",
       "      <td>3.5</td>\n",
       "      <td>1501655001</td>\n",
       "    </tr>\n",
       "    <tr>\n",
       "      <th>22505255</th>\n",
       "      <td>230183</td>\n",
       "      <td>97773</td>\n",
       "      <td>3.5</td>\n",
       "      <td>1464937962</td>\n",
       "    </tr>\n",
       "    <tr>\n",
       "      <th>25465019</th>\n",
       "      <td>260133</td>\n",
       "      <td>104155</td>\n",
       "      <td>3.5</td>\n",
       "      <td>1378778895</td>\n",
       "    </tr>\n",
       "    <tr>\n",
       "      <th>25465161</th>\n",
       "      <td>260133</td>\n",
       "      <td>104155</td>\n",
       "      <td>2.5</td>\n",
       "      <td>1505977593</td>\n",
       "    </tr>\n",
       "    <tr>\n",
       "      <th>26353900</th>\n",
       "      <td>269098</td>\n",
       "      <td>104155</td>\n",
       "      <td>3.5</td>\n",
       "      <td>1377396957</td>\n",
       "    </tr>\n",
       "    <tr>\n",
       "      <th>26354146</th>\n",
       "      <td>269098</td>\n",
       "      <td>104155</td>\n",
       "      <td>3.5</td>\n",
       "      <td>1496019855</td>\n",
       "    </tr>\n",
       "    <tr>\n",
       "      <th>27242840</th>\n",
       "      <td>278022</td>\n",
       "      <td>46865</td>\n",
       "      <td>3.5</td>\n",
       "      <td>1494713647</td>\n",
       "    </tr>\n",
       "    <tr>\n",
       "      <th>27244405</th>\n",
       "      <td>278022</td>\n",
       "      <td>46865</td>\n",
       "      <td>4.0</td>\n",
       "      <td>1494717970</td>\n",
       "    </tr>\n",
       "  </tbody>\n",
       "</table>\n",
       "</div>"
      ],
      "text/plain": [
       "          userId  movieId  rating   timestamp\n",
       "6213836    63786   104155     0.5  1490157153\n",
       "6214019    63786   104155     0.5  1490157134\n",
       "6575743    67522     2644     3.0  1522388123\n",
       "6576057    67522     2644     4.0  1522436661\n",
       "7128279    73145   104155     4.0  1384276985\n",
       "7128522    73145   104155     4.0  1421188224\n",
       "8204118    84432   104155     3.5  1390947133\n",
       "8204136    84432   104155     3.0  1432918104\n",
       "10394207  106859    70155     3.0  1500908547\n",
       "10394847  106859    70155     3.0  1500908560\n",
       "10397896  106873   104155     4.0  1376975238\n",
       "10398018  106873   104155     4.5  1436758238\n",
       "10862664  111688   104155     4.5  1402494730\n",
       "10862692  111688   104155     4.5  1477450047\n",
       "12010931  123100    97773     3.0  1450166863\n",
       "12011347  123100    97773     3.0  1450164192\n",
       "12243097  125365   111519     4.5  1436452325\n",
       "12243194  125365   111519     4.5  1427199640\n",
       "15158896  154880   104155     4.0  1398187007\n",
       "15158951  154880   104155     3.5  1512964435\n",
       "15264429  155976    48682     3.5  1267648381\n",
       "15264776  155976    48682     3.5  1463268492\n",
       "15653605  159846    66511     2.0  1499318921\n",
       "15654247  159846    66511     2.0  1534046590\n",
       "16408991  167835   104155     3.0  1388380607\n",
       "16409115  167835   104155     3.0  1457545603\n",
       "17920236  183200   104035     0.5  1475292730\n",
       "17920390  183200   104035     1.0  1475285150\n",
       "19174782  195628   104155     3.0  1381140059\n",
       "19174990  195628   104155     3.0  1530661998\n",
       "19242274  196323     2644     5.0  1451170687\n",
       "19243096  196323     2644     5.0  1530938260\n",
       "21701689  221697   178401     4.0  1527358587\n",
       "21701699  221697   178401     2.0  1527358755\n",
       "22505207  230183    97773     3.5  1501655001\n",
       "22505255  230183    97773     3.5  1464937962\n",
       "25465019  260133   104155     3.5  1378778895\n",
       "25465161  260133   104155     2.5  1505977593\n",
       "26353900  269098   104155     3.5  1377396957\n",
       "26354146  269098   104155     3.5  1496019855\n",
       "27242840  278022    46865     3.5  1494713647\n",
       "27244405  278022    46865     4.0  1494717970"
      ]
     },
     "execution_count": 123,
     "metadata": {},
     "output_type": "execute_result"
    }
   ],
   "source": [
    "ratings2[ratings2.duplicated(['userId','movieId'],keep=False)]"
   ]
  },
  {
   "cell_type": "markdown",
   "metadata": {},
   "source": [
    "As we inspect the table above, we see that there are duplicate values. But! if you look at it closely, the values in the ratings column for some is different. Thus we cannot conclude with this."
   ]
  },
  {
   "cell_type": "markdown",
   "metadata": {},
   "source": [
    "To get a better picture let us now include another subset column, the 'rating' column."
   ]
  },
  {
   "cell_type": "code",
   "execution_count": 124,
   "metadata": {},
   "outputs": [
    {
     "data": {
      "text/plain": [
       "13"
      ]
     },
     "execution_count": 124,
     "metadata": {},
     "output_type": "execute_result"
    }
   ],
   "source": [
    "ratings2.duplicated(['userId','movieId','rating']).sum()"
   ]
  },
  {
   "cell_type": "code",
   "execution_count": 125,
   "metadata": {},
   "outputs": [
    {
     "data": {
      "text/html": [
       "<div>\n",
       "<style scoped>\n",
       "    .dataframe tbody tr th:only-of-type {\n",
       "        vertical-align: middle;\n",
       "    }\n",
       "\n",
       "    .dataframe tbody tr th {\n",
       "        vertical-align: top;\n",
       "    }\n",
       "\n",
       "    .dataframe thead th {\n",
       "        text-align: right;\n",
       "    }\n",
       "</style>\n",
       "<table border=\"1\" class=\"dataframe\">\n",
       "  <thead>\n",
       "    <tr style=\"text-align: right;\">\n",
       "      <th></th>\n",
       "      <th>userId</th>\n",
       "      <th>movieId</th>\n",
       "      <th>rating</th>\n",
       "      <th>timestamp</th>\n",
       "    </tr>\n",
       "  </thead>\n",
       "  <tbody>\n",
       "    <tr>\n",
       "      <th>6213836</th>\n",
       "      <td>63786</td>\n",
       "      <td>104155</td>\n",
       "      <td>0.5</td>\n",
       "      <td>1490157153</td>\n",
       "    </tr>\n",
       "    <tr>\n",
       "      <th>6214019</th>\n",
       "      <td>63786</td>\n",
       "      <td>104155</td>\n",
       "      <td>0.5</td>\n",
       "      <td>1490157134</td>\n",
       "    </tr>\n",
       "    <tr>\n",
       "      <th>7128279</th>\n",
       "      <td>73145</td>\n",
       "      <td>104155</td>\n",
       "      <td>4.0</td>\n",
       "      <td>1384276985</td>\n",
       "    </tr>\n",
       "    <tr>\n",
       "      <th>7128522</th>\n",
       "      <td>73145</td>\n",
       "      <td>104155</td>\n",
       "      <td>4.0</td>\n",
       "      <td>1421188224</td>\n",
       "    </tr>\n",
       "    <tr>\n",
       "      <th>10394207</th>\n",
       "      <td>106859</td>\n",
       "      <td>70155</td>\n",
       "      <td>3.0</td>\n",
       "      <td>1500908547</td>\n",
       "    </tr>\n",
       "    <tr>\n",
       "      <th>10394847</th>\n",
       "      <td>106859</td>\n",
       "      <td>70155</td>\n",
       "      <td>3.0</td>\n",
       "      <td>1500908560</td>\n",
       "    </tr>\n",
       "    <tr>\n",
       "      <th>10862664</th>\n",
       "      <td>111688</td>\n",
       "      <td>104155</td>\n",
       "      <td>4.5</td>\n",
       "      <td>1402494730</td>\n",
       "    </tr>\n",
       "    <tr>\n",
       "      <th>10862692</th>\n",
       "      <td>111688</td>\n",
       "      <td>104155</td>\n",
       "      <td>4.5</td>\n",
       "      <td>1477450047</td>\n",
       "    </tr>\n",
       "    <tr>\n",
       "      <th>12010931</th>\n",
       "      <td>123100</td>\n",
       "      <td>97773</td>\n",
       "      <td>3.0</td>\n",
       "      <td>1450166863</td>\n",
       "    </tr>\n",
       "    <tr>\n",
       "      <th>12011347</th>\n",
       "      <td>123100</td>\n",
       "      <td>97773</td>\n",
       "      <td>3.0</td>\n",
       "      <td>1450164192</td>\n",
       "    </tr>\n",
       "    <tr>\n",
       "      <th>12243097</th>\n",
       "      <td>125365</td>\n",
       "      <td>111519</td>\n",
       "      <td>4.5</td>\n",
       "      <td>1436452325</td>\n",
       "    </tr>\n",
       "    <tr>\n",
       "      <th>12243194</th>\n",
       "      <td>125365</td>\n",
       "      <td>111519</td>\n",
       "      <td>4.5</td>\n",
       "      <td>1427199640</td>\n",
       "    </tr>\n",
       "    <tr>\n",
       "      <th>15264429</th>\n",
       "      <td>155976</td>\n",
       "      <td>48682</td>\n",
       "      <td>3.5</td>\n",
       "      <td>1267648381</td>\n",
       "    </tr>\n",
       "    <tr>\n",
       "      <th>15264776</th>\n",
       "      <td>155976</td>\n",
       "      <td>48682</td>\n",
       "      <td>3.5</td>\n",
       "      <td>1463268492</td>\n",
       "    </tr>\n",
       "    <tr>\n",
       "      <th>15653605</th>\n",
       "      <td>159846</td>\n",
       "      <td>66511</td>\n",
       "      <td>2.0</td>\n",
       "      <td>1499318921</td>\n",
       "    </tr>\n",
       "    <tr>\n",
       "      <th>15654247</th>\n",
       "      <td>159846</td>\n",
       "      <td>66511</td>\n",
       "      <td>2.0</td>\n",
       "      <td>1534046590</td>\n",
       "    </tr>\n",
       "    <tr>\n",
       "      <th>16408991</th>\n",
       "      <td>167835</td>\n",
       "      <td>104155</td>\n",
       "      <td>3.0</td>\n",
       "      <td>1388380607</td>\n",
       "    </tr>\n",
       "    <tr>\n",
       "      <th>16409115</th>\n",
       "      <td>167835</td>\n",
       "      <td>104155</td>\n",
       "      <td>3.0</td>\n",
       "      <td>1457545603</td>\n",
       "    </tr>\n",
       "    <tr>\n",
       "      <th>19174782</th>\n",
       "      <td>195628</td>\n",
       "      <td>104155</td>\n",
       "      <td>3.0</td>\n",
       "      <td>1381140059</td>\n",
       "    </tr>\n",
       "    <tr>\n",
       "      <th>19174990</th>\n",
       "      <td>195628</td>\n",
       "      <td>104155</td>\n",
       "      <td>3.0</td>\n",
       "      <td>1530661998</td>\n",
       "    </tr>\n",
       "    <tr>\n",
       "      <th>19242274</th>\n",
       "      <td>196323</td>\n",
       "      <td>2644</td>\n",
       "      <td>5.0</td>\n",
       "      <td>1451170687</td>\n",
       "    </tr>\n",
       "    <tr>\n",
       "      <th>19243096</th>\n",
       "      <td>196323</td>\n",
       "      <td>2644</td>\n",
       "      <td>5.0</td>\n",
       "      <td>1530938260</td>\n",
       "    </tr>\n",
       "    <tr>\n",
       "      <th>22505207</th>\n",
       "      <td>230183</td>\n",
       "      <td>97773</td>\n",
       "      <td>3.5</td>\n",
       "      <td>1501655001</td>\n",
       "    </tr>\n",
       "    <tr>\n",
       "      <th>22505255</th>\n",
       "      <td>230183</td>\n",
       "      <td>97773</td>\n",
       "      <td>3.5</td>\n",
       "      <td>1464937962</td>\n",
       "    </tr>\n",
       "    <tr>\n",
       "      <th>26353900</th>\n",
       "      <td>269098</td>\n",
       "      <td>104155</td>\n",
       "      <td>3.5</td>\n",
       "      <td>1377396957</td>\n",
       "    </tr>\n",
       "    <tr>\n",
       "      <th>26354146</th>\n",
       "      <td>269098</td>\n",
       "      <td>104155</td>\n",
       "      <td>3.5</td>\n",
       "      <td>1496019855</td>\n",
       "    </tr>\n",
       "  </tbody>\n",
       "</table>\n",
       "</div>"
      ],
      "text/plain": [
       "          userId  movieId  rating   timestamp\n",
       "6213836    63786   104155     0.5  1490157153\n",
       "6214019    63786   104155     0.5  1490157134\n",
       "7128279    73145   104155     4.0  1384276985\n",
       "7128522    73145   104155     4.0  1421188224\n",
       "10394207  106859    70155     3.0  1500908547\n",
       "10394847  106859    70155     3.0  1500908560\n",
       "10862664  111688   104155     4.5  1402494730\n",
       "10862692  111688   104155     4.5  1477450047\n",
       "12010931  123100    97773     3.0  1450166863\n",
       "12011347  123100    97773     3.0  1450164192\n",
       "12243097  125365   111519     4.5  1436452325\n",
       "12243194  125365   111519     4.5  1427199640\n",
       "15264429  155976    48682     3.5  1267648381\n",
       "15264776  155976    48682     3.5  1463268492\n",
       "15653605  159846    66511     2.0  1499318921\n",
       "15654247  159846    66511     2.0  1534046590\n",
       "16408991  167835   104155     3.0  1388380607\n",
       "16409115  167835   104155     3.0  1457545603\n",
       "19174782  195628   104155     3.0  1381140059\n",
       "19174990  195628   104155     3.0  1530661998\n",
       "19242274  196323     2644     5.0  1451170687\n",
       "19243096  196323     2644     5.0  1530938260\n",
       "22505207  230183    97773     3.5  1501655001\n",
       "22505255  230183    97773     3.5  1464937962\n",
       "26353900  269098   104155     3.5  1377396957\n",
       "26354146  269098   104155     3.5  1496019855"
      ]
     },
     "execution_count": 125,
     "metadata": {},
     "output_type": "execute_result"
    }
   ],
   "source": [
    "ratings2[ratings2.duplicated(['userId','movieId','rating'],keep=False)]"
   ]
  },
  {
   "cell_type": "markdown",
   "metadata": {},
   "source": [
    "Here we encounter some duplicate values. After observing them we can come to a conclusion that these are the duplicate values and perform the necessary operations to get rid of them."
   ]
  },
  {
   "cell_type": "markdown",
   "metadata": {},
   "source": [
    "Let us now walk through the process of handling duplicate values by removing them from the dataframe."
   ]
  },
  {
   "cell_type": "code",
   "execution_count": 126,
   "metadata": {},
   "outputs": [],
   "source": [
    "dup_ratings = ratings2[ratings2.duplicated(['userId','movieId','rating'],keep=False)]"
   ]
  },
  {
   "cell_type": "markdown",
   "metadata": {},
   "source": [
    "Let us now identify the unique values of the duplicates by using the unique() function."
   ]
  },
  {
   "cell_type": "code",
   "execution_count": 127,
   "metadata": {},
   "outputs": [
    {
     "data": {
      "text/plain": [
       "array([ 63786,  73145, 106859, 111688, 123100, 125365, 155976, 159846,\n",
       "       167835, 195628, 196323, 230183, 269098], dtype=int64)"
      ]
     },
     "execution_count": 127,
     "metadata": {},
     "output_type": "execute_result"
    }
   ],
   "source": [
    "dup_ratings.userId.unique()"
   ]
  },
  {
   "cell_type": "markdown",
   "metadata": {},
   "source": [
    "Now that we have the unique values, let us have a look at the dataframe with these values."
   ]
  },
  {
   "cell_type": "code",
   "execution_count": 128,
   "metadata": {},
   "outputs": [
    {
     "data": {
      "text/html": [
       "<div>\n",
       "<style scoped>\n",
       "    .dataframe tbody tr th:only-of-type {\n",
       "        vertical-align: middle;\n",
       "    }\n",
       "\n",
       "    .dataframe tbody tr th {\n",
       "        vertical-align: top;\n",
       "    }\n",
       "\n",
       "    .dataframe thead th {\n",
       "        text-align: right;\n",
       "    }\n",
       "</style>\n",
       "<table border=\"1\" class=\"dataframe\">\n",
       "  <thead>\n",
       "    <tr style=\"text-align: right;\">\n",
       "      <th></th>\n",
       "      <th>userId</th>\n",
       "      <th>movieId</th>\n",
       "      <th>rating</th>\n",
       "      <th>timestamp</th>\n",
       "    </tr>\n",
       "  </thead>\n",
       "  <tbody>\n",
       "    <tr>\n",
       "      <th>6213836</th>\n",
       "      <td>63786</td>\n",
       "      <td>104155</td>\n",
       "      <td>0.5</td>\n",
       "      <td>1490157153</td>\n",
       "    </tr>\n",
       "    <tr>\n",
       "      <th>6214019</th>\n",
       "      <td>63786</td>\n",
       "      <td>104155</td>\n",
       "      <td>0.5</td>\n",
       "      <td>1490157134</td>\n",
       "    </tr>\n",
       "  </tbody>\n",
       "</table>\n",
       "</div>"
      ],
      "text/plain": [
       "         userId  movieId  rating   timestamp\n",
       "6213836   63786   104155     0.5  1490157153\n",
       "6214019   63786   104155     0.5  1490157134"
      ]
     },
     "metadata": {},
     "output_type": "display_data"
    },
    {
     "data": {
      "text/html": [
       "<div>\n",
       "<style scoped>\n",
       "    .dataframe tbody tr th:only-of-type {\n",
       "        vertical-align: middle;\n",
       "    }\n",
       "\n",
       "    .dataframe tbody tr th {\n",
       "        vertical-align: top;\n",
       "    }\n",
       "\n",
       "    .dataframe thead th {\n",
       "        text-align: right;\n",
       "    }\n",
       "</style>\n",
       "<table border=\"1\" class=\"dataframe\">\n",
       "  <thead>\n",
       "    <tr style=\"text-align: right;\">\n",
       "      <th></th>\n",
       "      <th>userId</th>\n",
       "      <th>movieId</th>\n",
       "      <th>rating</th>\n",
       "      <th>timestamp</th>\n",
       "    </tr>\n",
       "  </thead>\n",
       "  <tbody>\n",
       "    <tr>\n",
       "      <th>7128279</th>\n",
       "      <td>73145</td>\n",
       "      <td>104155</td>\n",
       "      <td>4.0</td>\n",
       "      <td>1384276985</td>\n",
       "    </tr>\n",
       "    <tr>\n",
       "      <th>7128522</th>\n",
       "      <td>73145</td>\n",
       "      <td>104155</td>\n",
       "      <td>4.0</td>\n",
       "      <td>1421188224</td>\n",
       "    </tr>\n",
       "  </tbody>\n",
       "</table>\n",
       "</div>"
      ],
      "text/plain": [
       "         userId  movieId  rating   timestamp\n",
       "7128279   73145   104155     4.0  1384276985\n",
       "7128522   73145   104155     4.0  1421188224"
      ]
     },
     "metadata": {},
     "output_type": "display_data"
    },
    {
     "data": {
      "text/html": [
       "<div>\n",
       "<style scoped>\n",
       "    .dataframe tbody tr th:only-of-type {\n",
       "        vertical-align: middle;\n",
       "    }\n",
       "\n",
       "    .dataframe tbody tr th {\n",
       "        vertical-align: top;\n",
       "    }\n",
       "\n",
       "    .dataframe thead th {\n",
       "        text-align: right;\n",
       "    }\n",
       "</style>\n",
       "<table border=\"1\" class=\"dataframe\">\n",
       "  <thead>\n",
       "    <tr style=\"text-align: right;\">\n",
       "      <th></th>\n",
       "      <th>userId</th>\n",
       "      <th>movieId</th>\n",
       "      <th>rating</th>\n",
       "      <th>timestamp</th>\n",
       "    </tr>\n",
       "  </thead>\n",
       "  <tbody>\n",
       "    <tr>\n",
       "      <th>10394207</th>\n",
       "      <td>106859</td>\n",
       "      <td>70155</td>\n",
       "      <td>3.0</td>\n",
       "      <td>1500908547</td>\n",
       "    </tr>\n",
       "    <tr>\n",
       "      <th>10394847</th>\n",
       "      <td>106859</td>\n",
       "      <td>70155</td>\n",
       "      <td>3.0</td>\n",
       "      <td>1500908560</td>\n",
       "    </tr>\n",
       "  </tbody>\n",
       "</table>\n",
       "</div>"
      ],
      "text/plain": [
       "          userId  movieId  rating   timestamp\n",
       "10394207  106859    70155     3.0  1500908547\n",
       "10394847  106859    70155     3.0  1500908560"
      ]
     },
     "metadata": {},
     "output_type": "display_data"
    },
    {
     "data": {
      "text/html": [
       "<div>\n",
       "<style scoped>\n",
       "    .dataframe tbody tr th:only-of-type {\n",
       "        vertical-align: middle;\n",
       "    }\n",
       "\n",
       "    .dataframe tbody tr th {\n",
       "        vertical-align: top;\n",
       "    }\n",
       "\n",
       "    .dataframe thead th {\n",
       "        text-align: right;\n",
       "    }\n",
       "</style>\n",
       "<table border=\"1\" class=\"dataframe\">\n",
       "  <thead>\n",
       "    <tr style=\"text-align: right;\">\n",
       "      <th></th>\n",
       "      <th>userId</th>\n",
       "      <th>movieId</th>\n",
       "      <th>rating</th>\n",
       "      <th>timestamp</th>\n",
       "    </tr>\n",
       "  </thead>\n",
       "  <tbody>\n",
       "    <tr>\n",
       "      <th>10862664</th>\n",
       "      <td>111688</td>\n",
       "      <td>104155</td>\n",
       "      <td>4.5</td>\n",
       "      <td>1402494730</td>\n",
       "    </tr>\n",
       "    <tr>\n",
       "      <th>10862692</th>\n",
       "      <td>111688</td>\n",
       "      <td>104155</td>\n",
       "      <td>4.5</td>\n",
       "      <td>1477450047</td>\n",
       "    </tr>\n",
       "  </tbody>\n",
       "</table>\n",
       "</div>"
      ],
      "text/plain": [
       "          userId  movieId  rating   timestamp\n",
       "10862664  111688   104155     4.5  1402494730\n",
       "10862692  111688   104155     4.5  1477450047"
      ]
     },
     "metadata": {},
     "output_type": "display_data"
    },
    {
     "data": {
      "text/html": [
       "<div>\n",
       "<style scoped>\n",
       "    .dataframe tbody tr th:only-of-type {\n",
       "        vertical-align: middle;\n",
       "    }\n",
       "\n",
       "    .dataframe tbody tr th {\n",
       "        vertical-align: top;\n",
       "    }\n",
       "\n",
       "    .dataframe thead th {\n",
       "        text-align: right;\n",
       "    }\n",
       "</style>\n",
       "<table border=\"1\" class=\"dataframe\">\n",
       "  <thead>\n",
       "    <tr style=\"text-align: right;\">\n",
       "      <th></th>\n",
       "      <th>userId</th>\n",
       "      <th>movieId</th>\n",
       "      <th>rating</th>\n",
       "      <th>timestamp</th>\n",
       "    </tr>\n",
       "  </thead>\n",
       "  <tbody>\n",
       "    <tr>\n",
       "      <th>12010931</th>\n",
       "      <td>123100</td>\n",
       "      <td>97773</td>\n",
       "      <td>3.0</td>\n",
       "      <td>1450166863</td>\n",
       "    </tr>\n",
       "    <tr>\n",
       "      <th>12011347</th>\n",
       "      <td>123100</td>\n",
       "      <td>97773</td>\n",
       "      <td>3.0</td>\n",
       "      <td>1450164192</td>\n",
       "    </tr>\n",
       "  </tbody>\n",
       "</table>\n",
       "</div>"
      ],
      "text/plain": [
       "          userId  movieId  rating   timestamp\n",
       "12010931  123100    97773     3.0  1450166863\n",
       "12011347  123100    97773     3.0  1450164192"
      ]
     },
     "metadata": {},
     "output_type": "display_data"
    },
    {
     "data": {
      "text/html": [
       "<div>\n",
       "<style scoped>\n",
       "    .dataframe tbody tr th:only-of-type {\n",
       "        vertical-align: middle;\n",
       "    }\n",
       "\n",
       "    .dataframe tbody tr th {\n",
       "        vertical-align: top;\n",
       "    }\n",
       "\n",
       "    .dataframe thead th {\n",
       "        text-align: right;\n",
       "    }\n",
       "</style>\n",
       "<table border=\"1\" class=\"dataframe\">\n",
       "  <thead>\n",
       "    <tr style=\"text-align: right;\">\n",
       "      <th></th>\n",
       "      <th>userId</th>\n",
       "      <th>movieId</th>\n",
       "      <th>rating</th>\n",
       "      <th>timestamp</th>\n",
       "    </tr>\n",
       "  </thead>\n",
       "  <tbody>\n",
       "    <tr>\n",
       "      <th>12243097</th>\n",
       "      <td>125365</td>\n",
       "      <td>111519</td>\n",
       "      <td>4.5</td>\n",
       "      <td>1436452325</td>\n",
       "    </tr>\n",
       "    <tr>\n",
       "      <th>12243194</th>\n",
       "      <td>125365</td>\n",
       "      <td>111519</td>\n",
       "      <td>4.5</td>\n",
       "      <td>1427199640</td>\n",
       "    </tr>\n",
       "  </tbody>\n",
       "</table>\n",
       "</div>"
      ],
      "text/plain": [
       "          userId  movieId  rating   timestamp\n",
       "12243097  125365   111519     4.5  1436452325\n",
       "12243194  125365   111519     4.5  1427199640"
      ]
     },
     "metadata": {},
     "output_type": "display_data"
    },
    {
     "data": {
      "text/html": [
       "<div>\n",
       "<style scoped>\n",
       "    .dataframe tbody tr th:only-of-type {\n",
       "        vertical-align: middle;\n",
       "    }\n",
       "\n",
       "    .dataframe tbody tr th {\n",
       "        vertical-align: top;\n",
       "    }\n",
       "\n",
       "    .dataframe thead th {\n",
       "        text-align: right;\n",
       "    }\n",
       "</style>\n",
       "<table border=\"1\" class=\"dataframe\">\n",
       "  <thead>\n",
       "    <tr style=\"text-align: right;\">\n",
       "      <th></th>\n",
       "      <th>userId</th>\n",
       "      <th>movieId</th>\n",
       "      <th>rating</th>\n",
       "      <th>timestamp</th>\n",
       "    </tr>\n",
       "  </thead>\n",
       "  <tbody>\n",
       "    <tr>\n",
       "      <th>15264429</th>\n",
       "      <td>155976</td>\n",
       "      <td>48682</td>\n",
       "      <td>3.5</td>\n",
       "      <td>1267648381</td>\n",
       "    </tr>\n",
       "    <tr>\n",
       "      <th>15264776</th>\n",
       "      <td>155976</td>\n",
       "      <td>48682</td>\n",
       "      <td>3.5</td>\n",
       "      <td>1463268492</td>\n",
       "    </tr>\n",
       "  </tbody>\n",
       "</table>\n",
       "</div>"
      ],
      "text/plain": [
       "          userId  movieId  rating   timestamp\n",
       "15264429  155976    48682     3.5  1267648381\n",
       "15264776  155976    48682     3.5  1463268492"
      ]
     },
     "metadata": {},
     "output_type": "display_data"
    },
    {
     "data": {
      "text/html": [
       "<div>\n",
       "<style scoped>\n",
       "    .dataframe tbody tr th:only-of-type {\n",
       "        vertical-align: middle;\n",
       "    }\n",
       "\n",
       "    .dataframe tbody tr th {\n",
       "        vertical-align: top;\n",
       "    }\n",
       "\n",
       "    .dataframe thead th {\n",
       "        text-align: right;\n",
       "    }\n",
       "</style>\n",
       "<table border=\"1\" class=\"dataframe\">\n",
       "  <thead>\n",
       "    <tr style=\"text-align: right;\">\n",
       "      <th></th>\n",
       "      <th>userId</th>\n",
       "      <th>movieId</th>\n",
       "      <th>rating</th>\n",
       "      <th>timestamp</th>\n",
       "    </tr>\n",
       "  </thead>\n",
       "  <tbody>\n",
       "    <tr>\n",
       "      <th>15653605</th>\n",
       "      <td>159846</td>\n",
       "      <td>66511</td>\n",
       "      <td>2.0</td>\n",
       "      <td>1499318921</td>\n",
       "    </tr>\n",
       "    <tr>\n",
       "      <th>15654247</th>\n",
       "      <td>159846</td>\n",
       "      <td>66511</td>\n",
       "      <td>2.0</td>\n",
       "      <td>1534046590</td>\n",
       "    </tr>\n",
       "  </tbody>\n",
       "</table>\n",
       "</div>"
      ],
      "text/plain": [
       "          userId  movieId  rating   timestamp\n",
       "15653605  159846    66511     2.0  1499318921\n",
       "15654247  159846    66511     2.0  1534046590"
      ]
     },
     "metadata": {},
     "output_type": "display_data"
    },
    {
     "data": {
      "text/html": [
       "<div>\n",
       "<style scoped>\n",
       "    .dataframe tbody tr th:only-of-type {\n",
       "        vertical-align: middle;\n",
       "    }\n",
       "\n",
       "    .dataframe tbody tr th {\n",
       "        vertical-align: top;\n",
       "    }\n",
       "\n",
       "    .dataframe thead th {\n",
       "        text-align: right;\n",
       "    }\n",
       "</style>\n",
       "<table border=\"1\" class=\"dataframe\">\n",
       "  <thead>\n",
       "    <tr style=\"text-align: right;\">\n",
       "      <th></th>\n",
       "      <th>userId</th>\n",
       "      <th>movieId</th>\n",
       "      <th>rating</th>\n",
       "      <th>timestamp</th>\n",
       "    </tr>\n",
       "  </thead>\n",
       "  <tbody>\n",
       "    <tr>\n",
       "      <th>16408991</th>\n",
       "      <td>167835</td>\n",
       "      <td>104155</td>\n",
       "      <td>3.0</td>\n",
       "      <td>1388380607</td>\n",
       "    </tr>\n",
       "    <tr>\n",
       "      <th>16409115</th>\n",
       "      <td>167835</td>\n",
       "      <td>104155</td>\n",
       "      <td>3.0</td>\n",
       "      <td>1457545603</td>\n",
       "    </tr>\n",
       "  </tbody>\n",
       "</table>\n",
       "</div>"
      ],
      "text/plain": [
       "          userId  movieId  rating   timestamp\n",
       "16408991  167835   104155     3.0  1388380607\n",
       "16409115  167835   104155     3.0  1457545603"
      ]
     },
     "metadata": {},
     "output_type": "display_data"
    },
    {
     "data": {
      "text/html": [
       "<div>\n",
       "<style scoped>\n",
       "    .dataframe tbody tr th:only-of-type {\n",
       "        vertical-align: middle;\n",
       "    }\n",
       "\n",
       "    .dataframe tbody tr th {\n",
       "        vertical-align: top;\n",
       "    }\n",
       "\n",
       "    .dataframe thead th {\n",
       "        text-align: right;\n",
       "    }\n",
       "</style>\n",
       "<table border=\"1\" class=\"dataframe\">\n",
       "  <thead>\n",
       "    <tr style=\"text-align: right;\">\n",
       "      <th></th>\n",
       "      <th>userId</th>\n",
       "      <th>movieId</th>\n",
       "      <th>rating</th>\n",
       "      <th>timestamp</th>\n",
       "    </tr>\n",
       "  </thead>\n",
       "  <tbody>\n",
       "    <tr>\n",
       "      <th>19174782</th>\n",
       "      <td>195628</td>\n",
       "      <td>104155</td>\n",
       "      <td>3.0</td>\n",
       "      <td>1381140059</td>\n",
       "    </tr>\n",
       "    <tr>\n",
       "      <th>19174990</th>\n",
       "      <td>195628</td>\n",
       "      <td>104155</td>\n",
       "      <td>3.0</td>\n",
       "      <td>1530661998</td>\n",
       "    </tr>\n",
       "  </tbody>\n",
       "</table>\n",
       "</div>"
      ],
      "text/plain": [
       "          userId  movieId  rating   timestamp\n",
       "19174782  195628   104155     3.0  1381140059\n",
       "19174990  195628   104155     3.0  1530661998"
      ]
     },
     "metadata": {},
     "output_type": "display_data"
    },
    {
     "data": {
      "text/html": [
       "<div>\n",
       "<style scoped>\n",
       "    .dataframe tbody tr th:only-of-type {\n",
       "        vertical-align: middle;\n",
       "    }\n",
       "\n",
       "    .dataframe tbody tr th {\n",
       "        vertical-align: top;\n",
       "    }\n",
       "\n",
       "    .dataframe thead th {\n",
       "        text-align: right;\n",
       "    }\n",
       "</style>\n",
       "<table border=\"1\" class=\"dataframe\">\n",
       "  <thead>\n",
       "    <tr style=\"text-align: right;\">\n",
       "      <th></th>\n",
       "      <th>userId</th>\n",
       "      <th>movieId</th>\n",
       "      <th>rating</th>\n",
       "      <th>timestamp</th>\n",
       "    </tr>\n",
       "  </thead>\n",
       "  <tbody>\n",
       "    <tr>\n",
       "      <th>19242274</th>\n",
       "      <td>196323</td>\n",
       "      <td>2644</td>\n",
       "      <td>5.0</td>\n",
       "      <td>1451170687</td>\n",
       "    </tr>\n",
       "    <tr>\n",
       "      <th>19243096</th>\n",
       "      <td>196323</td>\n",
       "      <td>2644</td>\n",
       "      <td>5.0</td>\n",
       "      <td>1530938260</td>\n",
       "    </tr>\n",
       "  </tbody>\n",
       "</table>\n",
       "</div>"
      ],
      "text/plain": [
       "          userId  movieId  rating   timestamp\n",
       "19242274  196323     2644     5.0  1451170687\n",
       "19243096  196323     2644     5.0  1530938260"
      ]
     },
     "metadata": {},
     "output_type": "display_data"
    },
    {
     "data": {
      "text/html": [
       "<div>\n",
       "<style scoped>\n",
       "    .dataframe tbody tr th:only-of-type {\n",
       "        vertical-align: middle;\n",
       "    }\n",
       "\n",
       "    .dataframe tbody tr th {\n",
       "        vertical-align: top;\n",
       "    }\n",
       "\n",
       "    .dataframe thead th {\n",
       "        text-align: right;\n",
       "    }\n",
       "</style>\n",
       "<table border=\"1\" class=\"dataframe\">\n",
       "  <thead>\n",
       "    <tr style=\"text-align: right;\">\n",
       "      <th></th>\n",
       "      <th>userId</th>\n",
       "      <th>movieId</th>\n",
       "      <th>rating</th>\n",
       "      <th>timestamp</th>\n",
       "    </tr>\n",
       "  </thead>\n",
       "  <tbody>\n",
       "    <tr>\n",
       "      <th>22505207</th>\n",
       "      <td>230183</td>\n",
       "      <td>97773</td>\n",
       "      <td>3.5</td>\n",
       "      <td>1501655001</td>\n",
       "    </tr>\n",
       "    <tr>\n",
       "      <th>22505255</th>\n",
       "      <td>230183</td>\n",
       "      <td>97773</td>\n",
       "      <td>3.5</td>\n",
       "      <td>1464937962</td>\n",
       "    </tr>\n",
       "  </tbody>\n",
       "</table>\n",
       "</div>"
      ],
      "text/plain": [
       "          userId  movieId  rating   timestamp\n",
       "22505207  230183    97773     3.5  1501655001\n",
       "22505255  230183    97773     3.5  1464937962"
      ]
     },
     "metadata": {},
     "output_type": "display_data"
    },
    {
     "data": {
      "text/html": [
       "<div>\n",
       "<style scoped>\n",
       "    .dataframe tbody tr th:only-of-type {\n",
       "        vertical-align: middle;\n",
       "    }\n",
       "\n",
       "    .dataframe tbody tr th {\n",
       "        vertical-align: top;\n",
       "    }\n",
       "\n",
       "    .dataframe thead th {\n",
       "        text-align: right;\n",
       "    }\n",
       "</style>\n",
       "<table border=\"1\" class=\"dataframe\">\n",
       "  <thead>\n",
       "    <tr style=\"text-align: right;\">\n",
       "      <th></th>\n",
       "      <th>userId</th>\n",
       "      <th>movieId</th>\n",
       "      <th>rating</th>\n",
       "      <th>timestamp</th>\n",
       "    </tr>\n",
       "  </thead>\n",
       "  <tbody>\n",
       "    <tr>\n",
       "      <th>26353900</th>\n",
       "      <td>269098</td>\n",
       "      <td>104155</td>\n",
       "      <td>3.5</td>\n",
       "      <td>1377396957</td>\n",
       "    </tr>\n",
       "    <tr>\n",
       "      <th>26354146</th>\n",
       "      <td>269098</td>\n",
       "      <td>104155</td>\n",
       "      <td>3.5</td>\n",
       "      <td>1496019855</td>\n",
       "    </tr>\n",
       "  </tbody>\n",
       "</table>\n",
       "</div>"
      ],
      "text/plain": [
       "          userId  movieId  rating   timestamp\n",
       "26353900  269098   104155     3.5  1377396957\n",
       "26354146  269098   104155     3.5  1496019855"
      ]
     },
     "metadata": {},
     "output_type": "display_data"
    }
   ],
   "source": [
    "for m in dup_ratings.userId.unique():\n",
    "    display(dup_ratings[dup_ratings.userId==m])"
   ]
  },
  {
   "cell_type": "markdown",
   "metadata": {},
   "source": [
    "Now that we've observed the dataframe with duplicate values, let us write a function to handle them. i.e by removing them from the dataset so that they do not affect the analysis of the dataset."
   ]
  },
  {
   "cell_type": "markdown",
   "metadata": {},
   "source": [
    "Let us write a remove_duplicate_from_ratings_dataset function which does the job for us. Notice that we have to remove the duplicates by the index position. If we try to remove them by their column names, we might end up deleting both the values which is a bad practice."
   ]
  },
  {
   "cell_type": "code",
   "execution_count": 129,
   "metadata": {},
   "outputs": [],
   "source": [
    "def remove_duplicate_from_ratings_dataset(dataframe: pd.DataFrame, Ids: [int]) -> pd.DataFrame:\n",
    "    for x in Ids:        \n",
    "        index_to_remove = dataframe[dataframe.userId == x].index.values.astype(int)[1]\n",
    "        dataframe = dataframe.drop(index_to_remove)\n",
    "    return dataframe\n",
    "\n",
    "ratings_final = remove_duplicate_from_ratings_dataset(ratings2,dup_ratings.userId.unique())"
   ]
  },
  {
   "cell_type": "markdown",
   "metadata": {},
   "source": [
    "Let us confirm whether the operation is performed by finding the difference between the new dataframe and the previous one. The difference must be 13 as we removed 13 values from the dataframe"
   ]
  },
  {
   "cell_type": "code",
   "execution_count": 130,
   "metadata": {},
   "outputs": [
    {
     "data": {
      "text/plain": [
       "13"
      ]
     },
     "execution_count": 130,
     "metadata": {},
     "output_type": "execute_result"
    }
   ],
   "source": [
    "len(ratings2) - len(ratings_final)"
   ]
  },
  {
   "cell_type": "markdown",
   "metadata": {},
   "source": [
    "We got the required output to confirm whether the operation is performed. "
   ]
  },
  {
   "cell_type": "markdown",
   "metadata": {},
   "source": [
    "## We've now removed all the duplicates from both the dataframes: movies and ratings."
   ]
  }
 ],
 "metadata": {
  "kernelspec": {
   "display_name": "Python 3",
   "language": "python",
   "name": "python3"
  },
  "language_info": {
   "codemirror_mode": {
    "name": "ipython",
    "version": 3
   },
   "file_extension": ".py",
   "mimetype": "text/x-python",
   "name": "python",
   "nbconvert_exporter": "python",
   "pygments_lexer": "ipython3",
   "version": "3.7.6"
  }
 },
 "nbformat": 4,
 "nbformat_minor": 4
}
