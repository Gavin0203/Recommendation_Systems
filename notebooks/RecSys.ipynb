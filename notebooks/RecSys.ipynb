{
  "nbformat": 4,
  "nbformat_minor": 0,
  "metadata": {
    "colab": {
      "name": "RecSys.ipynb",
      "provenance": [],
      "collapsed_sections": [],
      "toc_visible": true
    },
    "kernelspec": {
      "name": "python3",
      "display_name": "Python 3"
    }
  },
  "cells": [
    {
      "cell_type": "code",
      "metadata": {
        "colab": {
          "base_uri": "https://localhost:8080/"
        },
        "id": "pshi29SjLds7",
        "outputId": "906ce2cb-fe56-45d6-cafe-b54ed83665fc"
      },
      "source": [
        "pip install surprise"
      ],
      "execution_count": null,
      "outputs": [
        {
          "output_type": "stream",
          "text": [
            "Collecting surprise\n",
            "  Downloading https://files.pythonhosted.org/packages/61/de/e5cba8682201fcf9c3719a6fdda95693468ed061945493dea2dd37c5618b/surprise-0.1-py2.py3-none-any.whl\n",
            "Collecting scikit-surprise\n",
            "\u001b[?25l  Downloading https://files.pythonhosted.org/packages/97/37/5d334adaf5ddd65da99fc65f6507e0e4599d092ba048f4302fe8775619e8/scikit-surprise-1.1.1.tar.gz (11.8MB)\n",
            "\u001b[K     |████████████████████████████████| 11.8MB 338kB/s \n",
            "\u001b[?25hRequirement already satisfied: joblib>=0.11 in /usr/local/lib/python3.6/dist-packages (from scikit-surprise->surprise) (1.0.0)\n",
            "Requirement already satisfied: numpy>=1.11.2 in /usr/local/lib/python3.6/dist-packages (from scikit-surprise->surprise) (1.19.5)\n",
            "Requirement already satisfied: scipy>=1.0.0 in /usr/local/lib/python3.6/dist-packages (from scikit-surprise->surprise) (1.4.1)\n",
            "Requirement already satisfied: six>=1.10.0 in /usr/local/lib/python3.6/dist-packages (from scikit-surprise->surprise) (1.15.0)\n",
            "Building wheels for collected packages: scikit-surprise\n",
            "  Building wheel for scikit-surprise (setup.py) ... \u001b[?25l\u001b[?25hdone\n",
            "  Created wheel for scikit-surprise: filename=scikit_surprise-1.1.1-cp36-cp36m-linux_x86_64.whl size=1618284 sha256=8e409fd3ff24c9bb5d69d77d065fe35595cb79e5efd0cc7f2e7bc59fb5e84b4c\n",
            "  Stored in directory: /root/.cache/pip/wheels/78/9c/3d/41b419c9d2aff5b6e2b4c0fc8d25c538202834058f9ed110d0\n",
            "Successfully built scikit-surprise\n",
            "Installing collected packages: scikit-surprise, surprise\n",
            "Successfully installed scikit-surprise-1.1.1 surprise-0.1\n"
          ],
          "name": "stdout"
        }
      ]
    },
    {
      "cell_type": "markdown",
      "metadata": {
        "id": "I-JXN6lYXjT-"
      },
      "source": [
        "# READING THE DATASET"
      ]
    },
    {
      "cell_type": "code",
      "metadata": {
        "colab": {
          "base_uri": "https://localhost:8080/",
          "height": 195
        },
        "id": "VD18BwbkLj5b",
        "outputId": "4b0ec715-903e-4a3c-fa45-e96bcf6f359d"
      },
      "source": [
        "import pandas as pd\r\n",
        "\r\n",
        "df = pd.read_csv('ratings.csv')\r\n",
        "df.head(5)"
      ],
      "execution_count": null,
      "outputs": [
        {
          "output_type": "execute_result",
          "data": {
            "text/html": [
              "<div>\n",
              "<style scoped>\n",
              "    .dataframe tbody tr th:only-of-type {\n",
              "        vertical-align: middle;\n",
              "    }\n",
              "\n",
              "    .dataframe tbody tr th {\n",
              "        vertical-align: top;\n",
              "    }\n",
              "\n",
              "    .dataframe thead th {\n",
              "        text-align: right;\n",
              "    }\n",
              "</style>\n",
              "<table border=\"1\" class=\"dataframe\">\n",
              "  <thead>\n",
              "    <tr style=\"text-align: right;\">\n",
              "      <th></th>\n",
              "      <th>userId</th>\n",
              "      <th>movieId</th>\n",
              "      <th>rating</th>\n",
              "      <th>timestamp</th>\n",
              "    </tr>\n",
              "  </thead>\n",
              "  <tbody>\n",
              "    <tr>\n",
              "      <th>0</th>\n",
              "      <td>1</td>\n",
              "      <td>1</td>\n",
              "      <td>4.0</td>\n",
              "      <td>964982703</td>\n",
              "    </tr>\n",
              "    <tr>\n",
              "      <th>1</th>\n",
              "      <td>1</td>\n",
              "      <td>3</td>\n",
              "      <td>4.0</td>\n",
              "      <td>964981247</td>\n",
              "    </tr>\n",
              "    <tr>\n",
              "      <th>2</th>\n",
              "      <td>1</td>\n",
              "      <td>6</td>\n",
              "      <td>4.0</td>\n",
              "      <td>964982224</td>\n",
              "    </tr>\n",
              "    <tr>\n",
              "      <th>3</th>\n",
              "      <td>1</td>\n",
              "      <td>47</td>\n",
              "      <td>5.0</td>\n",
              "      <td>964983815</td>\n",
              "    </tr>\n",
              "    <tr>\n",
              "      <th>4</th>\n",
              "      <td>1</td>\n",
              "      <td>50</td>\n",
              "      <td>5.0</td>\n",
              "      <td>964982931</td>\n",
              "    </tr>\n",
              "  </tbody>\n",
              "</table>\n",
              "</div>"
            ],
            "text/plain": [
              "   userId  movieId  rating  timestamp\n",
              "0       1        1     4.0  964982703\n",
              "1       1        3     4.0  964981247\n",
              "2       1        6     4.0  964982224\n",
              "3       1       47     5.0  964983815\n",
              "4       1       50     5.0  964982931"
            ]
          },
          "metadata": {
            "tags": []
          },
          "execution_count": 2
        }
      ]
    },
    {
      "cell_type": "markdown",
      "metadata": {
        "id": "00jLsgglXu1s"
      },
      "source": [
        "Let us now import the necessary packages and convert to surprise readable format using the surprise.dataset function."
      ]
    },
    {
      "cell_type": "code",
      "metadata": {
        "id": "tzl4rDpJPHM3"
      },
      "source": [
        "from surprise import SVD\r\n",
        "from surprise import Dataset\r\n",
        "from surprise.reader import Reader\r\n",
        "\r\n",
        "reader = Reader(line_format = 'user item rating timestamp',sep=',',skip_lines=1)\r\n",
        "data = Dataset.load_from_file('ratings.csv',reader)\r\n"
      ],
      "execution_count": null,
      "outputs": []
    },
    {
      "cell_type": "markdown",
      "metadata": {
        "id": "c4olOUzcY8UP"
      },
      "source": [
        "Now we will use the train_test_split function to slit the dataset into 75% training and 25% test data set."
      ]
    },
    {
      "cell_type": "code",
      "metadata": {
        "id": "6P4TZFKQPHll"
      },
      "source": [
        "from surprise.model_selection import train_test_split\r\n",
        "trainset, testset = train_test_split(data, test_size=.25)\r\n"
      ],
      "execution_count": null,
      "outputs": []
    },
    {
      "cell_type": "markdown",
      "metadata": {
        "id": "QVUWEaI3XayJ"
      },
      "source": [
        "# ALGORITHMS"
      ]
    },
    {
      "cell_type": "markdown",
      "metadata": {
        "id": "hNqNue1j2hYu"
      },
      "source": [
        "We will be using two algorithms, the KNNBasic and Baseline.We will be setting the parameters for user_based and item_based, And use one of the two similarity metrics(Cosine, Pearson)."
      ]
    },
    {
      "cell_type": "code",
      "metadata": {
        "id": "NLcwWx8TXrOd"
      },
      "source": [
        "from surprise.prediction_algorithms.knns import KNNBasic\r\n",
        "from surprise.prediction_algorithms.baseline_only import BaselineOnly\r\n",
        "bsl_options = {'method': 'sgd',\r\n",
        "               'learning_rate': .00005,\r\n",
        "               }\r\n",
        "algo1 = KNNBasic(k=20,min_k=4,sim_options={'name':'cosine','user_based':True})\r\n",
        "algo2 = KNNBasic(k=20,min_k=4,sim_options={'name':'cosine','user_based':False})\r\n",
        "algo3 = KNNBasic(k=20,min_k=4,sim_options={'name':'pearson','user_based':True})\r\n",
        "algo4 = KNNBasic(k=20,min_k=4,sim_options={'name':'pearson','user_based':False})\r\n",
        "algo5 = BaselineOnly(bsl_options=bsl_options)"
      ],
      "execution_count": null,
      "outputs": []
    },
    {
      "cell_type": "markdown",
      "metadata": {
        "id": "45ZbjzbjXUAr"
      },
      "source": [
        "# RMSE"
      ]
    },
    {
      "cell_type": "markdown",
      "metadata": {
        "id": "rRA4_s3_222o"
      },
      "source": [
        "To compute the RMSE we will use the accuracy function from surprise library. "
      ]
    },
    {
      "cell_type": "code",
      "metadata": {
        "colab": {
          "base_uri": "https://localhost:8080/"
        },
        "id": "mi-z8dxPPHip",
        "outputId": "eeae0685-e6e6-4349-caee-79de591af053"
      },
      "source": [
        "from surprise import accuracy\r\n",
        "algo1.fit(trainset)\r\n",
        "predictions = algo1.test(testset)\r\n",
        "rmse_cu = accuracy.rmse(predictions)"
      ],
      "execution_count": null,
      "outputs": [
        {
          "output_type": "stream",
          "text": [
            "Computing the cosine similarity matrix...\n",
            "Done computing similarity matrix.\n",
            "RMSE: 0.9746\n"
          ],
          "name": "stdout"
        }
      ]
    },
    {
      "cell_type": "code",
      "metadata": {
        "id": "o8TrUSKHYIkn",
        "colab": {
          "base_uri": "https://localhost:8080/"
        },
        "outputId": "027e9677-101a-4abd-bf9c-16eebe2700d3"
      },
      "source": [
        "algo2.fit(trainset)\r\n",
        "predictions = algo2.test(testset)\r\n",
        "rmse_ci = accuracy.rmse(predictions)"
      ],
      "execution_count": null,
      "outputs": [
        {
          "output_type": "stream",
          "text": [
            "Computing the cosine similarity matrix...\n",
            "Done computing similarity matrix.\n",
            "RMSE: 0.9954\n"
          ],
          "name": "stdout"
        }
      ]
    },
    {
      "cell_type": "code",
      "metadata": {
        "colab": {
          "base_uri": "https://localhost:8080/"
        },
        "id": "nrPfIywSPHoU",
        "outputId": "860a5036-79db-4cf2-8956-7ab8ade3985d"
      },
      "source": [
        "algo3.fit(trainset)\r\n",
        "predictions = algo3.test(testset)\r\n",
        "rmse_pu = accuracy.rmse(predictions)"
      ],
      "execution_count": null,
      "outputs": [
        {
          "output_type": "stream",
          "text": [
            "Computing the pearson similarity matrix...\n",
            "Done computing similarity matrix.\n",
            "RMSE: 0.9739\n"
          ],
          "name": "stdout"
        }
      ]
    },
    {
      "cell_type": "code",
      "metadata": {
        "colab": {
          "base_uri": "https://localhost:8080/"
        },
        "id": "K5cI-H8HPHqs",
        "outputId": "b019d07a-69b8-4a87-a744-a34fa8ad871e"
      },
      "source": [
        "algo4.fit(trainset)\r\n",
        "predictions = algo4.test(testset)\r\n",
        "rmse_pi = accuracy.rmse(predictions)"
      ],
      "execution_count": null,
      "outputs": [
        {
          "output_type": "stream",
          "text": [
            "Computing the pearson similarity matrix...\n",
            "Done computing similarity matrix.\n",
            "RMSE: 0.9853\n"
          ],
          "name": "stdout"
        }
      ]
    },
    {
      "cell_type": "code",
      "metadata": {
        "id": "X5vBE-EJPHuE",
        "colab": {
          "base_uri": "https://localhost:8080/"
        },
        "outputId": "d5aa22fd-e542-404b-9fdb-f8a0e573317a"
      },
      "source": [
        "algo5.fit(trainset)\r\n",
        "predictions = algo5.test(testset)\r\n",
        "rmse_b = accuracy.rmse(predictions)"
      ],
      "execution_count": null,
      "outputs": [
        {
          "output_type": "stream",
          "text": [
            "Estimating biases using sgd...\n",
            "RMSE: 0.9941\n"
          ],
          "name": "stdout"
        }
      ]
    },
    {
      "cell_type": "markdown",
      "metadata": {
        "id": "5R5WUwhRLn51"
      },
      "source": [
        "# MAE\r\n"
      ]
    },
    {
      "cell_type": "markdown",
      "metadata": {
        "id": "8hL2EbWs3Am-"
      },
      "source": [
        "To compute the MAE we will use the accuracy function from the surprise library."
      ]
    },
    {
      "cell_type": "code",
      "metadata": {
        "colab": {
          "base_uri": "https://localhost:8080/"
        },
        "id": "B98X3Hy7STpR",
        "outputId": "6a62e466-3b06-4440-872b-65c54e0d3c54"
      },
      "source": [
        "algo1.fit(trainset)\r\n",
        "predictions = algo1.test(testset)\r\n",
        "mae_cu = accuracy.mae(predictions)"
      ],
      "execution_count": null,
      "outputs": [
        {
          "output_type": "stream",
          "text": [
            "Computing the cosine similarity matrix...\n",
            "Done computing similarity matrix.\n",
            "MAE:  0.7472\n"
          ],
          "name": "stdout"
        }
      ]
    },
    {
      "cell_type": "code",
      "metadata": {
        "colab": {
          "base_uri": "https://localhost:8080/"
        },
        "id": "eqfv4DHJSUAF",
        "outputId": "d244c08f-8bab-4498-acc6-a03dc186e7d4"
      },
      "source": [
        "algo2.fit(trainset)\r\n",
        "predictions = algo2.test(testset)\r\n",
        "mae_ci = accuracy.mae(predictions)"
      ],
      "execution_count": null,
      "outputs": [
        {
          "output_type": "stream",
          "text": [
            "Computing the cosine similarity matrix...\n",
            "Done computing similarity matrix.\n",
            "MAE:  0.7797\n"
          ],
          "name": "stdout"
        }
      ]
    },
    {
      "cell_type": "code",
      "metadata": {
        "colab": {
          "base_uri": "https://localhost:8080/"
        },
        "id": "HoZA9XgbSUoj",
        "outputId": "4b7a5b5c-05d6-41b4-a2cf-22ea94205411"
      },
      "source": [
        "algo3.fit(trainset)\r\n",
        "predictions = algo3.test(testset)\r\n",
        "mae_pu = accuracy.mae(predictions)"
      ],
      "execution_count": null,
      "outputs": [
        {
          "output_type": "stream",
          "text": [
            "Computing the pearson similarity matrix...\n",
            "Done computing similarity matrix.\n",
            "MAE:  0.7517\n"
          ],
          "name": "stdout"
        }
      ]
    },
    {
      "cell_type": "code",
      "metadata": {
        "colab": {
          "base_uri": "https://localhost:8080/"
        },
        "id": "dEzg7-EBSzma",
        "outputId": "b6c674d4-09a1-4817-b52d-3bca9e7a8210"
      },
      "source": [
        "algo4.fit(trainset)\r\n",
        "predictions = algo4.test(testset)\r\n",
        "mae_pi = accuracy.mae(predictions)"
      ],
      "execution_count": null,
      "outputs": [
        {
          "output_type": "stream",
          "text": [
            "Computing the pearson similarity matrix...\n",
            "Done computing similarity matrix.\n",
            "MAE:  0.7686\n"
          ],
          "name": "stdout"
        }
      ]
    },
    {
      "cell_type": "code",
      "metadata": {
        "colab": {
          "base_uri": "https://localhost:8080/"
        },
        "id": "n4iR4fR2S2Ol",
        "outputId": "13b5013b-130a-484a-c51a-5a6a7dafdf36"
      },
      "source": [
        "algo5.fit(trainset)\r\n",
        "predictions = algo5.test(testset)\r\n",
        "mae_b = accuracy.mae(predictions)"
      ],
      "execution_count": null,
      "outputs": [
        {
          "output_type": "stream",
          "text": [
            "Estimating biases using sgd...\n",
            "MAE:  0.7905\n"
          ],
          "name": "stdout"
        }
      ]
    },
    {
      "cell_type": "markdown",
      "metadata": {
        "id": "RuH5k40ON8ni"
      },
      "source": [
        "# Fit time"
      ]
    },
    {
      "cell_type": "markdown",
      "metadata": {
        "id": "4CRK2RXEzZNX"
      },
      "source": [
        "To compute the Fit_time we will use the cross_validate function."
      ]
    },
    {
      "cell_type": "code",
      "metadata": {
        "colab": {
          "base_uri": "https://localhost:8080/"
        },
        "id": "T8WD8KlMWadK",
        "outputId": "846cdcd7-b18b-4e87-c7e6-7f51938aa6c9"
      },
      "source": [
        "from surprise.model_selection.validation import cross_validate\r\n",
        "\r\n",
        "#rm,ma,ft_cu,tt \r\n",
        "cu = cross_validate(algo1,data)\r\n",
        "ft_cu = cu['fit_time']"
      ],
      "execution_count": null,
      "outputs": [
        {
          "output_type": "stream",
          "text": [
            "Computing the cosine similarity matrix...\n",
            "Done computing similarity matrix.\n",
            "Computing the cosine similarity matrix...\n",
            "Done computing similarity matrix.\n",
            "Computing the cosine similarity matrix...\n",
            "Done computing similarity matrix.\n",
            "Computing the cosine similarity matrix...\n",
            "Done computing similarity matrix.\n",
            "Computing the cosine similarity matrix...\n",
            "Done computing similarity matrix.\n"
          ],
          "name": "stdout"
        }
      ]
    },
    {
      "cell_type": "code",
      "metadata": {
        "colab": {
          "base_uri": "https://localhost:8080/"
        },
        "id": "w7_VdfMJfh_E",
        "outputId": "593f3a5c-4bcb-4cdd-8f7a-1dfb0fd35989"
      },
      "source": [
        "ci = cross_validate(algo2,data)\r\n",
        "ft_ci = ci['fit_time']"
      ],
      "execution_count": null,
      "outputs": [
        {
          "output_type": "stream",
          "text": [
            "Computing the cosine similarity matrix...\n",
            "Done computing similarity matrix.\n",
            "Computing the cosine similarity matrix...\n",
            "Done computing similarity matrix.\n",
            "Computing the cosine similarity matrix...\n",
            "Done computing similarity matrix.\n",
            "Computing the cosine similarity matrix...\n",
            "Done computing similarity matrix.\n",
            "Computing the cosine similarity matrix...\n",
            "Done computing similarity matrix.\n"
          ],
          "name": "stdout"
        }
      ]
    },
    {
      "cell_type": "code",
      "metadata": {
        "colab": {
          "base_uri": "https://localhost:8080/"
        },
        "id": "qOkYjSFtfqk9",
        "outputId": "9e9a1f35-5c1f-41bd-f047-6f2962e5f628"
      },
      "source": [
        "pu = cross_validate(algo3,data)\r\n",
        "ft_pu = pu['fit_time']"
      ],
      "execution_count": null,
      "outputs": [
        {
          "output_type": "stream",
          "text": [
            "Computing the pearson similarity matrix...\n",
            "Done computing similarity matrix.\n",
            "Computing the pearson similarity matrix...\n",
            "Done computing similarity matrix.\n",
            "Computing the pearson similarity matrix...\n",
            "Done computing similarity matrix.\n",
            "Computing the pearson similarity matrix...\n",
            "Done computing similarity matrix.\n",
            "Computing the pearson similarity matrix...\n",
            "Done computing similarity matrix.\n"
          ],
          "name": "stdout"
        }
      ]
    },
    {
      "cell_type": "code",
      "metadata": {
        "colab": {
          "base_uri": "https://localhost:8080/"
        },
        "id": "FDQxmZ_HfxMn",
        "outputId": "fba4887c-604a-44ab-9b58-b53356e9cdb5"
      },
      "source": [
        "pi = cross_validate(algo4,data)\r\n",
        "ft_pi = pi['fit_time']"
      ],
      "execution_count": null,
      "outputs": [
        {
          "output_type": "stream",
          "text": [
            "Computing the pearson similarity matrix...\n",
            "Done computing similarity matrix.\n",
            "Computing the pearson similarity matrix...\n",
            "Done computing similarity matrix.\n",
            "Computing the pearson similarity matrix...\n",
            "Done computing similarity matrix.\n",
            "Computing the pearson similarity matrix...\n",
            "Done computing similarity matrix.\n",
            "Computing the pearson similarity matrix...\n",
            "Done computing similarity matrix.\n"
          ],
          "name": "stdout"
        }
      ]
    },
    {
      "cell_type": "code",
      "metadata": {
        "colab": {
          "base_uri": "https://localhost:8080/"
        },
        "id": "YFqf9NWsf2ee",
        "outputId": "7a11dcf5-8451-4160-ea36-6348fef3e714"
      },
      "source": [
        "b = cross_validate(algo5,data)\r\n",
        "ft_b = b['fit_time']"
      ],
      "execution_count": null,
      "outputs": [
        {
          "output_type": "stream",
          "text": [
            "Estimating biases using sgd...\n",
            "Estimating biases using sgd...\n",
            "Estimating biases using sgd...\n",
            "Estimating biases using sgd...\n",
            "Estimating biases using sgd...\n"
          ],
          "name": "stdout"
        }
      ]
    },
    {
      "cell_type": "markdown",
      "metadata": {
        "id": "Dr2T-S3Xz47H"
      },
      "source": [
        "#Benchmarking:\r\n",
        "The term benchmarking is used in machine learning (ML) to refer to the evaluation and comparison of ML methods regarding their ability to learn patterns in 'benchmark' datasets that have been applied as 'standards'."
      ]
    },
    {
      "cell_type": "markdown",
      "metadata": {
        "id": "HwlcETwZZjMO"
      },
      "source": [
        "# Benchmarking : RMSE\r\n",
        "We will be performing the Benchmarking operation on the RMSE of each algorithm."
      ]
    },
    {
      "cell_type": "code",
      "metadata": {
        "colab": {
          "base_uri": "https://localhost:8080/",
          "height": 351
        },
        "id": "R_VYweotZpdv",
        "outputId": "b4653a1a-5855-494b-f167-abaf5889beab"
      },
      "source": [
        "import matplotlib.pyplot as plt\r\n",
        "fig = plt.figure()\r\n",
        "ax = fig.add_axes([0,0,1,1])\r\n",
        "rmse = ['rmse_cu', 'rmse_ci', 'rmse_pu', 'rmse_pi', 'rmse_b']\r\n",
        "score = [rmse_cu,rmse_ci,rmse_pu,rmse_pi,rmse_b]\r\n",
        "ax.bar(rmse,score)\r\n",
        "plt.xlabel('RMSE')\r\n",
        "plt.ylabel('Score')\r\n",
        "plt.show()"
      ],
      "execution_count": null,
      "outputs": [
        {
          "output_type": "display_data",
          "data": {
            "image/png": "[encoded data removed]",
            "text/plain": [
              "<Figure size 432x288 with 1 Axes>"
            ]
          },
          "metadata": {
            "tags": [],
            "needs_background": "light"
          }
        }
      ]
    },
    {
      "cell_type": "markdown",
      "metadata": {
        "id": "J7HMIo592YLA"
      },
      "source": [
        "# Benchmarking: MAE\r\n",
        "We will be performing the Benchmarking operation on the MAE of each algorithm."
      ]
    },
    {
      "cell_type": "code",
      "metadata": {
        "colab": {
          "base_uri": "https://localhost:8080/",
          "height": 351
        },
        "id": "2cfXenYLa_J_",
        "outputId": "63ec881a-db5a-4e63-da73-312c6b625651"
      },
      "source": [
        "import matplotlib.pyplot as plt\r\n",
        "fig = plt.figure()\r\n",
        "ax = fig.add_axes([0,0,1,1])\r\n",
        "mae = ['mae_cu', 'mae_ci', 'mae_pu', 'mae_pi', 'mae_b']\r\n",
        "score = [mae_cu,mae_ci,mae_pu,mae_pi,mae_b]\r\n",
        "ax.bar(mae,score)\r\n",
        "plt.xlabel('MAE')\r\n",
        "plt.ylabel('Score')\r\n",
        "plt.show()"
      ],
      "execution_count": null,
      "outputs": [
        {
          "output_type": "display_data",
          "data": {
            "image/png": "[encoded data removed]",
            "text/plain": [
              "<Figure size 432x288 with 1 Axes>"
            ]
          },
          "metadata": {
            "tags": [],
            "needs_background": "light"
          }
        }
      ]
    },
    {
      "cell_type": "markdown",
      "metadata": {
        "id": "nCIECHQUowO7"
      },
      "source": [
        "# Benchmarking : Fit_time\r\n",
        "We will be performing the Benchmarking operation on the Fit_time of each algorithm."
      ]
    },
    {
      "cell_type": "code",
      "metadata": {
        "colab": {
          "base_uri": "https://localhost:8080/",
          "height": 352
        },
        "id": "QLbVHv2-bowR",
        "outputId": "376154a3-9341-401c-b1e1-6bc3829af91c"
      },
      "source": [
        "import matplotlib.pyplot as plt\r\n",
        "fig = plt.figure()\r\n",
        "ax = fig.add_axes([0,0,1,1])\r\n",
        "ft = ['ft_cu','ft_ci','ft_pu','ft_pi','ft_b']\r\n",
        "time = [ft_cu[0],ft_ci[0],ft_pu[0],ft_pi[0],ft_b[0]]\r\n",
        "ax.bar(ft,time)\r\n",
        "plt.xlabel('Fit_time')\r\n",
        "plt.ylabel('time(s)')\r\n",
        "plt.show()"
      ],
      "execution_count": null,
      "outputs": [
        {
          "output_type": "display_data",
          "data": {
            "image/png": "[encoded data removed]",
            "text/plain": [
              "<Figure size 432x288 with 1 Axes>"
            ]
          },
          "metadata": {
            "tags": [],
            "needs_background": "light"
          }
        }
      ]
    },
    {
      "cell_type": "code",
      "metadata": {
        "id": "dZ12FcO72Eaq"
      },
      "source": [
        ""
      ],
      "execution_count": null,
      "outputs": []
    }
  ]
}